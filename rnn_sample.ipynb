{
  "cells": [
    {
      "cell_type": "code",
      "execution_count": null,
      "metadata": {
        "colab": {
          "base_uri": "https://localhost:8080/"
        },
        "collapsed": true,
        "id": "huMOiUtvYLjf",
        "outputId": "9492b291-9e06-4b23-e60d-49dd714149c4"
      },
      "outputs": [
        {
          "name": "stdout",
          "output_type": "stream",
          "text": [
            "Requirement already satisfied: mindscope_utilities in /usr/local/lib/python3.11/dist-packages (0.1.9)\n",
            "Requirement already satisfied: flake8 in /usr/local/lib/python3.11/dist-packages (from mindscope_utilities) (7.3.0)\n",
            "Requirement already satisfied: pytest in /usr/local/lib/python3.11/dist-packages (from mindscope_utilities) (8.3.5)\n",
            "Requirement already satisfied: allensdk in /usr/local/lib/python3.11/dist-packages (from mindscope_utilities) (2.16.2)\n",
            "Requirement already satisfied: psycopg2-binary in /usr/local/lib/python3.11/dist-packages (from allensdk->mindscope_utilities) (2.9.10)\n",
            "Requirement already satisfied: hdmf!=3.5.*,!=3.6.*,!=3.7.*,!=3.8.* in /usr/local/lib/python3.11/dist-packages (from allensdk->mindscope_utilities) (4.1.0)\n",
            "Requirement already satisfied: h5py in /usr/local/lib/python3.11/dist-packages (from allensdk->mindscope_utilities) (3.14.0)\n",
            "Requirement already satisfied: matplotlib in /usr/local/lib/python3.11/dist-packages (from allensdk->mindscope_utilities) (3.10.0)\n",
            "Requirement already satisfied: numpy<1.24 in /usr/local/lib/python3.11/dist-packages (from allensdk->mindscope_utilities) (1.23.5)\n",
            "Requirement already satisfied: pandas==1.5.3 in /usr/local/lib/python3.11/dist-packages (from allensdk->mindscope_utilities) (1.5.3)\n",
            "Requirement already satisfied: jinja2 in /usr/local/lib/python3.11/dist-packages (from allensdk->mindscope_utilities) (3.1.6)\n",
            "Requirement already satisfied: scipy<1.11 in /usr/local/lib/python3.11/dist-packages (from allensdk->mindscope_utilities) (1.10.1)\n",
            "Requirement already satisfied: six in /usr/local/lib/python3.11/dist-packages (from allensdk->mindscope_utilities) (1.17.0)\n",
            "Requirement already satisfied: pynrrd in /usr/local/lib/python3.11/dist-packages (from allensdk->mindscope_utilities) (1.1.3)\n",
            "Requirement already satisfied: future in /usr/local/lib/python3.11/dist-packages (from allensdk->mindscope_utilities) (1.0.0)\n",
            "Requirement already satisfied: requests in /usr/local/lib/python3.11/dist-packages (from allensdk->mindscope_utilities) (2.32.3)\n",
            "Requirement already satisfied: requests-toolbelt in /usr/local/lib/python3.11/dist-packages (from allensdk->mindscope_utilities) (1.0.0)\n",
            "Requirement already satisfied: simplejson in /usr/local/lib/python3.11/dist-packages (from allensdk->mindscope_utilities) (3.20.1)\n",
            "Requirement already satisfied: scikit-image in /usr/local/lib/python3.11/dist-packages (from allensdk->mindscope_utilities) (0.24.0)\n",
            "Requirement already satisfied: scikit-build in /usr/local/lib/python3.11/dist-packages (from allensdk->mindscope_utilities) (0.18.1)\n",
            "Requirement already satisfied: statsmodels in /usr/local/lib/python3.11/dist-packages (from allensdk->mindscope_utilities) (0.14.5)\n",
            "Requirement already satisfied: simpleitk in /usr/local/lib/python3.11/dist-packages (from allensdk->mindscope_utilities) (2.5.2)\n",
            "Requirement already satisfied: argschema in /usr/local/lib/python3.11/dist-packages (from allensdk->mindscope_utilities) (3.0.4)\n",
            "Requirement already satisfied: glymur in /usr/local/lib/python3.11/dist-packages (from allensdk->mindscope_utilities) (0.14.3)\n",
            "Requirement already satisfied: xarray<2023.2.0 in /usr/local/lib/python3.11/dist-packages (from allensdk->mindscope_utilities) (2023.1.0)\n",
            "Requirement already satisfied: pynwb in /usr/local/lib/python3.11/dist-packages (from allensdk->mindscope_utilities) (2.8.3)\n",
            "Requirement already satisfied: tables in /usr/local/lib/python3.11/dist-packages (from allensdk->mindscope_utilities) (3.10.2)\n",
            "Requirement already satisfied: seaborn in /usr/local/lib/python3.11/dist-packages (from allensdk->mindscope_utilities) (0.13.2)\n",
            "Requirement already satisfied: aiohttp in /usr/local/lib/python3.11/dist-packages (from allensdk->mindscope_utilities) (3.11.15)\n",
            "Requirement already satisfied: nest-asyncio in /usr/local/lib/python3.11/dist-packages (from allensdk->mindscope_utilities) (1.6.0)\n",
            "Requirement already satisfied: tqdm in /usr/local/lib/python3.11/dist-packages (from allensdk->mindscope_utilities) (4.67.1)\n",
            "Requirement already satisfied: ndx-events in /usr/local/lib/python3.11/dist-packages (from allensdk->mindscope_utilities) (0.2.1)\n",
            "Requirement already satisfied: boto3 in /usr/local/lib/python3.11/dist-packages (from allensdk->mindscope_utilities) (1.39.7)\n",
            "Requirement already satisfied: semver in /usr/local/lib/python3.11/dist-packages (from allensdk->mindscope_utilities) (3.0.4)\n",
            "Requirement already satisfied: cachetools in /usr/local/lib/python3.11/dist-packages (from allensdk->mindscope_utilities) (5.5.2)\n",
            "Requirement already satisfied: sqlalchemy in /usr/local/lib/python3.11/dist-packages (from allensdk->mindscope_utilities) (2.0.41)\n",
            "Requirement already satisfied: python-dateutil in /usr/local/lib/python3.11/dist-packages (from allensdk->mindscope_utilities) (2.9.0.post0)\n",
            "Requirement already satisfied: pytz>=2020.1 in /usr/local/lib/python3.11/dist-packages (from pandas==1.5.3->allensdk->mindscope_utilities) (2025.2)\n",
            "Requirement already satisfied: mccabe<0.8.0,>=0.7.0 in /usr/local/lib/python3.11/dist-packages (from flake8->mindscope_utilities) (0.7.0)\n",
            "Requirement already satisfied: pycodestyle<2.15.0,>=2.14.0 in /usr/local/lib/python3.11/dist-packages (from flake8->mindscope_utilities) (2.14.0)\n",
            "Requirement already satisfied: pyflakes<3.5.0,>=3.4.0 in /usr/local/lib/python3.11/dist-packages (from flake8->mindscope_utilities) (3.4.0)\n",
            "Requirement already satisfied: iniconfig in /usr/local/lib/python3.11/dist-packages (from pytest->mindscope_utilities) (2.1.0)\n",
            "Requirement already satisfied: packaging in /usr/local/lib/python3.11/dist-packages (from pytest->mindscope_utilities) (24.2)\n",
            "Requirement already satisfied: pluggy<2,>=1.5 in /usr/local/lib/python3.11/dist-packages (from pytest->mindscope_utilities) (1.6.0)\n",
            "Requirement already satisfied: jsonschema>=3.2.0 in /usr/local/lib/python3.11/dist-packages (from hdmf!=3.5.*,!=3.6.*,!=3.7.*,!=3.8.*->allensdk->mindscope_utilities) (4.24.0)\n",
            "Requirement already satisfied: ruamel-yaml>=0.16 in /usr/local/lib/python3.11/dist-packages (from hdmf!=3.5.*,!=3.6.*,!=3.7.*,!=3.8.*->allensdk->mindscope_utilities) (0.18.14)\n",
            "Requirement already satisfied: aiohappyeyeballs>=2.3.0 in /usr/local/lib/python3.11/dist-packages (from aiohttp->allensdk->mindscope_utilities) (2.6.1)\n",
            "Requirement already satisfied: aiosignal>=1.1.2 in /usr/local/lib/python3.11/dist-packages (from aiohttp->allensdk->mindscope_utilities) (1.4.0)\n",
            "Requirement already satisfied: attrs>=17.3.0 in /usr/local/lib/python3.11/dist-packages (from aiohttp->allensdk->mindscope_utilities) (25.3.0)\n",
            "Requirement already satisfied: frozenlist>=1.1.1 in /usr/local/lib/python3.11/dist-packages (from aiohttp->allensdk->mindscope_utilities) (1.7.0)\n",
            "Requirement already satisfied: multidict<7.0,>=4.5 in /usr/local/lib/python3.11/dist-packages (from aiohttp->allensdk->mindscope_utilities) (6.6.3)\n",
            "Requirement already satisfied: propcache>=0.2.0 in /usr/local/lib/python3.11/dist-packages (from aiohttp->allensdk->mindscope_utilities) (0.3.2)\n",
            "Requirement already satisfied: yarl<2.0,>=1.17.0 in /usr/local/lib/python3.11/dist-packages (from aiohttp->allensdk->mindscope_utilities) (1.20.1)\n",
            "Requirement already satisfied: marshmallow<4.0,>=3.0.0 in /usr/local/lib/python3.11/dist-packages (from argschema->allensdk->mindscope_utilities) (3.26.1)\n",
            "Requirement already satisfied: pyyaml in /usr/local/lib/python3.11/dist-packages (from argschema->allensdk->mindscope_utilities) (6.0.2)\n",
            "Requirement already satisfied: botocore<1.40.0,>=1.39.7 in /usr/local/lib/python3.11/dist-packages (from boto3->allensdk->mindscope_utilities) (1.39.7)\n",
            "Requirement already satisfied: jmespath<2.0.0,>=0.7.1 in /usr/local/lib/python3.11/dist-packages (from boto3->allensdk->mindscope_utilities) (1.0.1)\n",
            "Requirement already satisfied: s3transfer<0.14.0,>=0.13.0 in /usr/local/lib/python3.11/dist-packages (from boto3->allensdk->mindscope_utilities) (0.13.0)\n",
            "Requirement already satisfied: lxml in /usr/local/lib/python3.11/dist-packages (from glymur->allensdk->mindscope_utilities) (5.4.0)\n",
            "Requirement already satisfied: pillow in /usr/local/lib/python3.11/dist-packages (from glymur->allensdk->mindscope_utilities) (11.2.1)\n",
            "Requirement already satisfied: MarkupSafe>=2.0 in /usr/local/lib/python3.11/dist-packages (from jinja2->allensdk->mindscope_utilities) (3.0.2)\n",
            "Requirement already satisfied: contourpy>=1.0.1 in /usr/local/lib/python3.11/dist-packages (from matplotlib->allensdk->mindscope_utilities) (1.3.2)\n",
            "Requirement already satisfied: cycler>=0.10 in /usr/local/lib/python3.11/dist-packages (from matplotlib->allensdk->mindscope_utilities) (0.12.1)\n",
            "Requirement already satisfied: fonttools>=4.22.0 in /usr/local/lib/python3.11/dist-packages (from matplotlib->allensdk->mindscope_utilities) (4.58.5)\n",
            "Requirement already satisfied: kiwisolver>=1.3.1 in /usr/local/lib/python3.11/dist-packages (from matplotlib->allensdk->mindscope_utilities) (1.4.8)\n",
            "Requirement already satisfied: pyparsing>=2.3.1 in /usr/local/lib/python3.11/dist-packages (from matplotlib->allensdk->mindscope_utilities) (3.2.3)\n",
            "Requirement already satisfied: typing_extensions in /usr/local/lib/python3.11/dist-packages (from pynrrd->allensdk->mindscope_utilities) (4.14.1)\n",
            "Requirement already satisfied: charset-normalizer<4,>=2 in /usr/local/lib/python3.11/dist-packages (from requests->allensdk->mindscope_utilities) (3.4.2)\n",
            "Requirement already satisfied: idna<4,>=2.5 in /usr/local/lib/python3.11/dist-packages (from requests->allensdk->mindscope_utilities) (3.10)\n",
            "Requirement already satisfied: urllib3<3,>=1.21.1 in /usr/local/lib/python3.11/dist-packages (from requests->allensdk->mindscope_utilities) (2.4.0)\n",
            "Requirement already satisfied: certifi>=2017.4.17 in /usr/local/lib/python3.11/dist-packages (from requests->allensdk->mindscope_utilities) (2025.7.14)\n",
            "Requirement already satisfied: distro in /usr/local/lib/python3.11/dist-packages (from scikit-build->allensdk->mindscope_utilities) (1.9.0)\n",
            "Requirement already satisfied: setuptools>=42.0.0 in /usr/local/lib/python3.11/dist-packages (from scikit-build->allensdk->mindscope_utilities) (75.2.0)\n",
            "Requirement already satisfied: wheel>=0.32.0 in /usr/local/lib/python3.11/dist-packages (from scikit-build->allensdk->mindscope_utilities) (0.45.1)\n",
            "Requirement already satisfied: networkx>=2.8 in /usr/local/lib/python3.11/dist-packages (from scikit-image->allensdk->mindscope_utilities) (3.5)\n",
            "Requirement already satisfied: imageio>=2.33 in /usr/local/lib/python3.11/dist-packages (from scikit-image->allensdk->mindscope_utilities) (2.37.0)\n",
            "Requirement already satisfied: tifffile>=2022.8.12 in /usr/local/lib/python3.11/dist-packages (from scikit-image->allensdk->mindscope_utilities) (2025.6.11)\n",
            "Requirement already satisfied: lazy-loader>=0.4 in /usr/local/lib/python3.11/dist-packages (from scikit-image->allensdk->mindscope_utilities) (0.4)\n",
            "Requirement already satisfied: greenlet>=1 in /usr/local/lib/python3.11/dist-packages (from sqlalchemy->allensdk->mindscope_utilities) (3.2.3)\n",
            "Requirement already satisfied: patsy>=0.5.6 in /usr/local/lib/python3.11/dist-packages (from statsmodels->allensdk->mindscope_utilities) (1.0.1)\n",
            "Requirement already satisfied: numexpr>=2.6.2 in /usr/local/lib/python3.11/dist-packages (from tables->allensdk->mindscope_utilities) (2.11.0)\n",
            "Requirement already satisfied: py-cpuinfo in /usr/local/lib/python3.11/dist-packages (from tables->allensdk->mindscope_utilities) (9.0.0)\n",
            "Requirement already satisfied: blosc2>=2.3.0 in /usr/local/lib/python3.11/dist-packages (from tables->allensdk->mindscope_utilities) (2.7.1)\n",
            "Requirement already satisfied: ndindex>=1.4 in /usr/local/lib/python3.11/dist-packages (from blosc2>=2.3.0->tables->allensdk->mindscope_utilities) (1.10.0)\n",
            "Requirement already satisfied: msgpack in /usr/local/lib/python3.11/dist-packages (from blosc2>=2.3.0->tables->allensdk->mindscope_utilities) (1.1.1)\n",
            "Requirement already satisfied: jsonschema-specifications>=2023.03.6 in /usr/local/lib/python3.11/dist-packages (from jsonschema>=3.2.0->hdmf!=3.5.*,!=3.6.*,!=3.7.*,!=3.8.*->allensdk->mindscope_utilities) (2025.4.1)\n",
            "Requirement already satisfied: referencing>=0.28.4 in /usr/local/lib/python3.11/dist-packages (from jsonschema>=3.2.0->hdmf!=3.5.*,!=3.6.*,!=3.7.*,!=3.8.*->allensdk->mindscope_utilities) (0.36.2)\n",
            "Requirement already satisfied: rpds-py>=0.7.1 in /usr/local/lib/python3.11/dist-packages (from jsonschema>=3.2.0->hdmf!=3.5.*,!=3.6.*,!=3.7.*,!=3.8.*->allensdk->mindscope_utilities) (0.26.0)\n",
            "Requirement already satisfied: ruamel.yaml.clib>=0.2.7 in /usr/local/lib/python3.11/dist-packages (from ruamel-yaml>=0.16->hdmf!=3.5.*,!=3.6.*,!=3.7.*,!=3.8.*->allensdk->mindscope_utilities) (0.2.12)\n",
            "Collecting allensdk==2.13.4\n",
            "  Using cached allensdk-2.13.4-py3-none-any.whl.metadata (2.0 kB)\n",
            "Requirement already satisfied: psycopg2-binary<3.0.0,>=2.7 in /usr/local/lib/python3.11/dist-packages (from allensdk==2.13.4) (2.9.10)\n",
            "Requirement already satisfied: hdmf>=2.5.8 in /usr/local/lib/python3.11/dist-packages (from allensdk==2.13.4) (4.1.0)\n",
            "Requirement already satisfied: h5py in /usr/local/lib/python3.11/dist-packages (from allensdk==2.13.4) (3.14.0)\n",
            "Collecting matplotlib<3.4.3,>=1.4.3 (from allensdk==2.13.4)\n",
            "  Using cached matplotlib-3.4.2.tar.gz (37.3 MB)\n",
            "  Preparing metadata (setup.py) ... \u001b[?25l\u001b[?25hdone\n",
            "Requirement already satisfied: numpy in /usr/local/lib/python3.11/dist-packages (from allensdk==2.13.4) (1.23.5)\n",
            "Requirement already satisfied: pandas>=1.1.5 in /usr/local/lib/python3.11/dist-packages (from allensdk==2.13.4) (1.5.3)\n",
            "Collecting jinja2<2.12.0,>=2.7.3 (from allensdk==2.13.4)\n",
            "  Using cached Jinja2-2.11.3-py2.py3-none-any.whl.metadata (3.5 kB)\n",
            "Requirement already satisfied: scipy<2.0.0,>=1.4.0 in /usr/local/lib/python3.11/dist-packages (from allensdk==2.13.4) (1.10.1)\n",
            "Requirement already satisfied: six<2.0.0,>=1.9.0 in /usr/local/lib/python3.11/dist-packages (from allensdk==2.13.4) (1.17.0)\n",
            "Collecting pynrrd<1.0.0,>=0.2.1 (from allensdk==2.13.4)\n",
            "  Using cached pynrrd-0.4.3-py2.py3-none-any.whl.metadata (3.8 kB)\n",
            "Collecting future<1.0.0,>=0.14.3 (from allensdk==2.13.4)\n",
            "  Using cached future-0.18.3.tar.gz (840 kB)\n",
            "  Preparing metadata (setup.py) ... \u001b[?25l\u001b[?25hdone\n",
            "Requirement already satisfied: requests<3.0.0 in /usr/local/lib/python3.11/dist-packages (from allensdk==2.13.4) (2.32.3)\n",
            "Collecting requests-toolbelt<1.0.0 (from allensdk==2.13.4)\n",
            "  Using cached requests_toolbelt-0.10.1-py2.py3-none-any.whl.metadata (14 kB)\n",
            "Requirement already satisfied: simplejson<4.0.0,>=3.10.0 in /usr/local/lib/python3.11/dist-packages (from allensdk==2.13.4) (3.20.1)\n",
            "Collecting scikit-image<0.17.0,>=0.14.0 (from allensdk==2.13.4)\n",
            "  Using cached scikit-image-0.16.2.tar.gz (28.9 MB)\n",
            "  \u001b[1;31merror\u001b[0m: \u001b[1msubprocess-exited-with-error\u001b[0m\n",
            "  \n",
            "  \u001b[31m×\u001b[0m \u001b[32mpython setup.py egg_info\u001b[0m did not run successfully.\n",
            "  \u001b[31m│\u001b[0m exit code: \u001b[1;36m1\u001b[0m\n",
            "  \u001b[31m╰─>\u001b[0m See above for output.\n",
            "  \n",
            "  \u001b[1;35mnote\u001b[0m: This error originates from a subprocess, and is likely not a problem with pip.\n",
            "  Preparing metadata (setup.py) ... \u001b[?25l\u001b[?25herror\n",
            "\u001b[1;31merror\u001b[0m: \u001b[1mmetadata-generation-failed\u001b[0m\n",
            "\n",
            "\u001b[31m×\u001b[0m Encountered error while generating package metadata.\n",
            "\u001b[31m╰─>\u001b[0m See above for output.\n",
            "\n",
            "\u001b[1;35mnote\u001b[0m: This is an issue with the package mentioned above, not pip.\n",
            "\u001b[1;36mhint\u001b[0m: See above for details.\n"
          ]
        }
      ],
      "source": [
        "# !pip install mindscope_utilities --upgrade\n",
        "# !pip install allensdk==2.13.4"
      ]
    },
    {
      "cell_type": "code",
      "execution_count": null,
      "metadata": {
        "id": "4nW57RdcYJWM"
      },
      "outputs": [],
      "source": [
        "from allensdk.brain_observatory.ecephys.ecephys_project_cache import EcephysProjectCache\n",
        "\n",
        "import os\n",
        "import tqdm\n",
        "import numpy as np\n",
        "import pandas as pd\n",
        "import matplotlib.pyplot as plt\n",
        "\n",
        "import torch\n",
        "import torch.nn as nn\n",
        "import torch.nn.functional as F"
      ]
    },
    {
      "cell_type": "code",
      "execution_count": null,
      "metadata": {
        "id": "hmZ2EGHBYJWO"
      },
      "outputs": [],
      "source": [
        "\n",
        "data_dir = './data'\n",
        "manifest_path = os.path.join(data_dir, 'manifest.json')\n",
        "\n",
        "cache = EcephysProjectCache.from_warehouse(manifest=manifest_path)"
      ]
    },
    {
      "cell_type": "code",
      "execution_count": null,
      "metadata": {
        "id": "A8B6rIEEYJWO"
      },
      "outputs": [],
      "source": [
        "#downloads data - takes 5min\n",
        "sessions = cache.get_session_table()"
      ]
    },
    {
      "cell_type": "code",
      "execution_count": null,
      "metadata": {
        "colab": {
          "base_uri": "https://localhost:8080/"
        },
        "id": "5L7SogSeYJWO",
        "outputId": "a3da3b0e-4ced-47c5-d2a3-fa1f90e40ac9"
      },
      "outputs": [
        {
          "data": {
            "text/plain": [
              "58"
            ]
          },
          "execution_count": 5,
          "metadata": {},
          "output_type": "execute_result"
        }
      ],
      "source": [
        "len(sessions)"
      ]
    },
    {
      "cell_type": "code",
      "execution_count": null,
      "metadata": {
        "colab": {
          "base_uri": "https://localhost:8080/"
        },
        "id": "Ui46r4s6YJWO",
        "outputId": "3e4b6c02-1267-4cb1-daa7-a7d933b1ba38"
      },
      "outputs": [
        {
          "data": {
            "text/plain": [
              "Index(['published_at', 'specimen_id', 'session_type', 'age_in_days', 'sex',\n",
              "       'full_genotype', 'unit_count', 'channel_count', 'probe_count',\n",
              "       'ecephys_structure_acronyms'],\n",
              "      dtype='object')"
            ]
          },
          "execution_count": 6,
          "metadata": {},
          "output_type": "execute_result"
        }
      ],
      "source": [
        "sessions.columns"
      ]
    },
    {
      "cell_type": "code",
      "execution_count": null,
      "metadata": {
        "colab": {
          "base_uri": "https://localhost:8080/",
          "height": 158,
          "referenced_widgets": [
            "71c12750535e4b0fa39978fa7573c5e6",
            "43250127bc0541418653e6bce0216ef7",
            "a858edf3bf774b76af54591963d94427",
            "a07b9fde2e7947e68038f6e3a08e85f2",
            "50854b254bfd4aa38bf8fb868cb1aee7",
            "0f34594196e04ca6ae1638d132f547c3",
            "bd877031a7574bdd8b085c7c2671723f",
            "95b2ddffd7124d11ac6068a29a769ac5",
            "d582dbbc505043d7bbe390d5f15bcc32",
            "5c04d1a080c845a49acefabaca93beab",
            "795ec14fd4d640979932fdf20eca5538"
          ]
        },
        "id": "b21owm7YYJWP",
        "outputId": "1c1a2d1f-0f5f-4b3e-ff4c-184a1a843dd6"
      },
      "outputs": [
        {
          "name": "stderr",
          "output_type": "stream",
          "text": [
            "WARNING:root:downloading a 2080.956MiB file from http://api.brain-map.org//api/v2/well_known_file_download/1026123989\n"
          ]
        },
        {
          "data": {
            "application/vnd.jupyter.widget-view+json": {
              "model_id": "71c12750535e4b0fa39978fa7573c5e6",
              "version_major": 2,
              "version_minor": 0
            },
            "text/plain": [
              "Downloading:   0%|          | 0.00/2.18G [00:00<?, ?B/s]"
            ]
          },
          "metadata": {},
          "output_type": "display_data"
        },
        {
          "name": "stderr",
          "output_type": "stream",
          "text": [
            "/usr/local/lib/python3.11/dist-packages/hdmf/spec/namespace.py:583: UserWarning: Ignoring the following cached namespace(s) because another version is already loaded:\n",
            "core - cached version: 2.2.2, loaded version: 2.7.0\n",
            "The loaded extension(s) may not be compatible with the cached extension(s) in the file. Please check the extension documentation and ignore this warning if these versions are compatible.\n",
            "  self.warn_for_ignored_namespaces(ignored_namespaces)\n"
          ]
        }
      ],
      "source": [
        "\n",
        "\n",
        "i = 4\n",
        "\n",
        "session = cache.get_session_data(sessions.index.values[i],\n",
        "                                 isi_violations_maximum = np.inf,\n",
        "                                 amplitude_cutoff_maximum = np.inf,\n",
        "                                 presence_ratio_minimum = -np.inf,\n",
        "                                 timeout = None)"
      ]
    },
    {
      "cell_type": "code",
      "execution_count": null,
      "metadata": {
        "id": "bcZoAoJvYJWP"
      },
      "outputs": [],
      "source": [
        "session?"
      ]
    },
    {
      "cell_type": "code",
      "execution_count": null,
      "metadata": {
        "id": "8ZMmDB1UYJWP"
      },
      "outputs": [],
      "source": [
        "# session.metadata #takes too long to run everytime"
      ]
    },
    {
      "cell_type": "code",
      "execution_count": null,
      "metadata": {
        "id": "K6UtpzPVYJWP"
      },
      "outputs": [],
      "source": [
        "units = session.units"
      ]
    },
    {
      "cell_type": "code",
      "execution_count": null,
      "metadata": {
        "id": "4cZNBxyDYJWP"
      },
      "outputs": [],
      "source": [
        "print('Total number of units:' + str(len(units)))\n",
        "units.head()"
      ]
    },
    {
      "cell_type": "code",
      "execution_count": null,
      "metadata": {
        "id": "c_t_tvKhYJWP"
      },
      "outputs": [],
      "source": [
        "#filtering units\n",
        "V1_units = units[(units.ecephys_structure_acronym == 'VISp') &\n",
        "                 (units.isi_violations < 0.1)]\n",
        "\n",
        "print('Total number of low contamination units:' + str(len(V1_units)))"
      ]
    },
    {
      "cell_type": "code",
      "execution_count": null,
      "metadata": {
        "id": "dAJoDObKYJWQ"
      },
      "outputs": [],
      "source": [
        "V1_units.index.values"
      ]
    },
    {
      "cell_type": "code",
      "execution_count": null,
      "metadata": {
        "id": "E1j2cduUYJWQ"
      },
      "outputs": [],
      "source": [
        "session.stimulus_names"
      ]
    },
    {
      "cell_type": "code",
      "execution_count": null,
      "metadata": {
        "id": "aIM0e8L_YJWQ"
      },
      "outputs": [],
      "source": [
        "stim_table = session.get_stimulus_table(['flashes'])\n",
        "stim_table"
      ]
    },
    {
      "cell_type": "code",
      "execution_count": null,
      "metadata": {
        "id": "H9TgpIZmYJWQ"
      },
      "outputs": [],
      "source": [
        "def get_bins(stim_time, bin_w = 10, start_adj = 500, end_adj = 2000):\n",
        "\n",
        "    stim_time_ms = int(stim_time * 1000)\n",
        "    start_ms = stim_time_ms - 500\n",
        "    end_ms = stim_time_ms + 2000\n",
        "\n",
        "    return np.arange(start_ms, end_ms, bin_w)"
      ]
    },
    {
      "cell_type": "code",
      "execution_count": null,
      "metadata": {
        "id": "vAucVIe8YJWQ"
      },
      "outputs": [],
      "source": [
        "firing_rates_all_stim = []\n",
        "#likely inefficient\n",
        "for stim in tqdm.tqdm(stim_table.start_time.to_numpy()):\n",
        "    bins = get_bins(stim) #timepoints of data\n",
        "\n",
        "    #array for storing spike data around one stimulus (units x bins)\n",
        "    firing_rates = np.zeros((len(V1_units.index.values), bins.shape[0]+2))\n",
        "\n",
        "# # #loading spike times\n",
        "    for i, unit in enumerate(V1_units.index.values):\n",
        "        all_spikes = session.spike_times[unit]\n",
        "        stim_spikes = all_spikes[(all_spikes >= stim - 0.5)&(all_spikes < stim + 2)]*1000\n",
        "        rate = np.digitize(stim_spikes, bins)\n",
        "        spikebin, count = np.unique(rate, return_counts = True)\n",
        "        firing_rates[i][spikebin] = count\n",
        "    firing_rates_all_stim.append(firing_rates)\n",
        "\n",
        "firing_rates_all_stim = np.array(firing_rates_all_stim)"
      ]
    },
    {
      "cell_type": "code",
      "execution_count": null,
      "metadata": {
        "id": "kDqOuxE6YJWQ"
      },
      "outputs": [],
      "source": [
        "plt.imshow(np.mean(firing_rates_all_stim, axis = 0))"
      ]
    },
    {
      "cell_type": "code",
      "execution_count": null,
      "metadata": {
        "id": "WH9Ut1Y92j-b"
      },
      "outputs": [],
      "source": [
        "plt.imshow(firing_rates_all_stim[0,:,:])\n",
        "mean = np.mean(firing_rates_all_stim[0,:,:], axis=1)\n",
        "np.argmax(mean)"
      ]
    },
    {
      "cell_type": "code",
      "execution_count": null,
      "metadata": {
        "id": "tKXrcEWbYJWQ"
      },
      "outputs": [],
      "source": [
        "firing_rates_all_stim.shape"
      ]
    },
    {
      "cell_type": "code",
      "execution_count": null,
      "metadata": {
        "id": "MtCQN5oleV-i"
      },
      "outputs": [],
      "source": [
        "plt.hist(np.mean(np.sum(firing_rates_all_stim, axis = 2), axis = 0)/2.5)"
      ]
    },
    {
      "cell_type": "code",
      "execution_count": null,
      "metadata": {
        "id": "utb27Dlwepuw"
      },
      "outputs": [],
      "source": [
        "plt.figure(figsize = (10, 6))\n",
        "plt.imshow(firing_rates_all_stim[0, :, :], cmap='gray_r', vmax = 3, vmin=0, aspect='auto')\n",
        "plt.xlabel('Time (ms)')\n",
        "plt.ylabel('Cell #')\n",
        "plt.colorbar(orientation='vertical', label='# Spikes in 0.01 s time bin')\n",
        "plt.title('Example trial')\n",
        "plt.show()"
      ]
    },
    {
      "cell_type": "code",
      "execution_count": null,
      "metadata": {
        "id": "5IS5h8segmPC"
      },
      "outputs": [],
      "source": [
        "device = torch.device('cuda' if torch.cuda.is_available() else 'cpu')"
      ]
    },
    {
      "cell_type": "code",
      "execution_count": null,
      "metadata": {
        "id": "T_Z3cj14hDZp"
      },
      "outputs": [],
      "source": [
        "# we will pretend like every \"bin\" is 10ms, so the trial length is 2500ms\n",
        "NT = 100\n",
        "\n",
        "# let's use 10 latent components\n",
        "ncomp = 36\n",
        "\n",
        "x = torch.from_numpy(firing_rates_all_stim)\n",
        "x = x.permute(2, 0, 1)"
      ]
    },
    {
      "cell_type": "code",
      "execution_count": null,
      "metadata": {
        "id": "mgl2D2ft6Rqe"
      },
      "outputs": [],
      "source": [
        "plt.imshow(x[:,0,:].T)"
      ]
    },
    {
      "cell_type": "code",
      "execution_count": null,
      "metadata": {
        "id": "MBls60GrwkUD"
      },
      "outputs": [],
      "source": [
        "x.shape"
      ]
    },
    {
      "cell_type": "code",
      "execution_count": null,
      "metadata": {
        "id": "xTgD0FHMehaZ"
      },
      "outputs": [],
      "source": [
        "class Net(nn.Module):\n",
        "  def __init__(self, ncomp, NN1, NN2, bidi=True):\n",
        "    super(Net, self).__init__()\n",
        "\n",
        "    # play with some of the options in the RNN!\n",
        "    self.rnn = nn.RNN(NN1, ncomp, num_layers = 10, dropout = 0,\n",
        "                      bidirectional = bidi, nonlinearity = 'tanh')\n",
        "    self.fc = nn.Linear(ncomp, NN2)\n",
        "\n",
        "  def forward(self, x):\n",
        "\n",
        "    y = self.rnn(x)[0]\n",
        "\n",
        "    if self.rnn.bidirectional:\n",
        "      # if the rnn is bidirectional, it concatenates the activations from the forward and backward pass\n",
        "      # we want to add them instead, so as to enforce the latents to match between the forward and backward pass\n",
        "      q = (y[:, :, :ncomp] + y[:, :, ncomp:])/2\n",
        "    else:\n",
        "      q = y\n",
        "\n",
        "    # the softplus function is just like a relu but it's smoothed out so we can't predict 0\n",
        "    # if we predict 0 and there was a spike, that's an instant Inf in the Poisson log-likelihood which leads to failure\n",
        "    z = F.softplus(self.fc(q), 10)\n",
        "\n",
        "    return z, q"
      ]
    },
    {
      "cell_type": "code",
      "execution_count": null,
      "metadata": {
        "id": "yJeKPI8wfwyR"
      },
      "outputs": [],
      "source": [
        "NN = x.shape[-1]\n",
        "\n",
        "# we separate the neuron data into two populations: the input and output\n",
        "x0 = x[:, :, :NN//2].to(device).float()\n",
        "x1 = x[:, :, NN//2:].to(device).float()\n",
        "\n",
        "NN1 = x1.shape[-1]\n",
        "NN2 = x0.shape[-1]\n",
        "\n",
        "# we initialize the neural network\n",
        "net = Net(ncomp, NN1, NN2, bidi = True).to(device)\n",
        "\n",
        "# special thing:  we initialize the biases of the last layer in the neural network\n",
        "# we set them as the mean firing rates of the neurons.\n",
        "# this should make the initial predictions close to the mean, because the latents don't contribute much\n",
        "net.fc.bias.data[:] = x0.mean((0,1))\n",
        "\n",
        "# we set up the optimizer. Adjust the learning rate if the training is slow or if it explodes.\n",
        "optimizer = torch.optim.Adam(net.parameters(), lr=.001)"
      ]
    },
    {
      "cell_type": "code",
      "execution_count": null,
      "metadata": {
        "id": "5Lv90SkF6hEE"
      },
      "outputs": [],
      "source": [
        "import scipy.stats\n",
        "\n",
        "def rate_correlation(z, x0):\n",
        "    z_np = z.detach().cpu().numpy()\n",
        "    x_np = x0.detach().cpu().numpy()\n",
        "\n",
        "    # Compute correlation per neuron, averaged across trials\n",
        "    n_neurons = x_np.shape[-1]\n",
        "    corr_list = []\n",
        "    for n in range(n_neurons):\n",
        "        corr_trialwise = []\n",
        "        for t in range(x_np.shape[1]):  # loop over trials\n",
        "            corr, _ = scipy.stats.pearsonr(z_np[:, t, n], x_np[:, t, n])\n",
        "            if not np.isnan(corr):\n",
        "                corr_trialwise.append(corr)\n",
        "        if corr_trialwise:\n",
        "            corr_list.append(np.mean(corr_trialwise))\n",
        "\n",
        "    return np.mean(corr_list)  # average across neurons"
      ]
    },
    {
      "cell_type": "code",
      "execution_count": null,
      "metadata": {
        "id": "v_u8kgS47Ash"
      },
      "outputs": [],
      "source": [
        "def binary_accuracy(z, x_spikes, threshold=0.5):\n",
        "    pred_spikes = (z > threshold).float()\n",
        "    true_spikes = (x_spikes > 0).float()\n",
        "    correct = (pred_spikes == true_spikes).float()\n",
        "    return correct.mean().item()"
      ]
    },
    {
      "cell_type": "code",
      "execution_count": null,
      "metadata": {
        "id": "fwqbLzrkiIYG"
      },
      "outputs": [],
      "source": [
        "# you can keep re-running this cell if you think the cost might decrease further\n",
        "\n",
        "# we define the Poisson log-likelihood loss\n",
        "def Poisson_loss(lam, spk):\n",
        "  lam = torch.clamp(lam, min=1e-3)\n",
        "  return lam - spk * torch.log(lam + 1e-8)\n",
        "loss_history = []\n",
        "acc_history = []\n",
        "corr_history = []\n",
        "niter = 6000\n",
        "for k in range(niter):\n",
        "  # the network outputs the single-neuron prediction and the latents\n",
        "  z, q = net(x1)\n",
        "\n",
        "  # our log-likelihood cost\n",
        "  cost = Poisson_loss(z, x0).mean()\n",
        "  acc = binary_accuracy(z, x0)\n",
        "  corr = rate_correlation(z, x0)\n",
        "\n",
        "  # train the network as usual\n",
        "  cost.backward()\n",
        "  optimizer.step()\n",
        "  optimizer.zero_grad()\n",
        "\n",
        "  loss_history.append(cost.item())\n",
        "  acc_history.append(acc)\n",
        "  corr_history.append(corr)\n",
        "\n",
        "  if k % 500 == 0:\n",
        "    print(f'iteration {k}, cost {cost.item():.4f}')\n",
        "    print(f\"Accuracy: {acc:.3f} | Rate Corr: {corr:.3f}\")\n"
      ]
    },
    {
      "cell_type": "code",
      "execution_count": null,
      "metadata": {
        "id": "94T3spsLcTup"
      },
      "outputs": [],
      "source": [
        "plt.figure(figsize=(8, 4))\n",
        "plt.plot(loss_history)\n",
        "plt.xlabel(\"Iteration\")\n",
        "plt.ylabel(\"Loss\")\n",
        "plt.title(\"Training Loss Over Time\")\n",
        "plt.grid(True)\n",
        "plt.show()"
      ]
    },
    {
      "cell_type": "code",
      "execution_count": null,
      "metadata": {
        "id": "KjY2X6r5iPnh"
      },
      "outputs": [],
      "source": [
        "rpred = z.detach().cpu().numpy()\n",
        "rates = x0.detach().cpu().numpy()\n",
        "nn_idx = 18\n",
        "\n",
        "plt.figure(figsize=(10, 6))\n",
        "plt.plot(rates[:, 0, nn_idx], label='rates (true)')\n",
        "plt.plot(rpred[:, 0, nn_idx], label='rates (predicted)')\n",
        "plt.plot(-0.5 + x[:, 0, nn_idx].cpu().numpy() / 4, label='spikes')\n",
        "plt.legend()\n",
        "plt.title(f'Neuron {nn_idx}')\n",
        "plt.show()"
      ]
    },
    {
      "cell_type": "code",
      "execution_count": null,
      "metadata": {
        "id": "Qi7LX_-B1ODb"
      },
      "outputs": [],
      "source": [
        "plt.figure(figsize = (12, 8))\n",
        "plt.subplot(121)\n",
        "plt.imshow(rates[:, 12, :25].T, cmap='gray_r')\n",
        "plt.xlabel('Time (ms)')\n",
        "plt.ylabel('Cell #')\n",
        "plt.title('True rates (trial 12)')\n",
        "\n",
        "plt.subplot(122)\n",
        "plt.imshow(rpred[:, 12, :].T, cmap='gray_r')\n",
        "plt.xlabel('Time (ms)')\n",
        "plt.ylabel('Cell #')\n",
        "plt.title('Inferred rates (trial 12)')\n",
        "plt.show()"
      ]
    },
    {
      "cell_type": "code",
      "execution_count": null,
      "metadata": {
        "id": "sZMlNHBX1y7x"
      },
      "outputs": [],
      "source": [
        "qcpu = q.detach().cpu().numpy()\n",
        "\n",
        "plt.figure(figsize=(20, 4))\n",
        "plt.subplot(121)\n",
        "plt.plot(qcpu[:, 0, :]);\n",
        "plt.title('All latents on trial 0')\n",
        "\n",
        "plt.subplot(122)\n",
        "plt.plot(qcpu[:, :, 0]);\n",
        "plt.title('All trials for latent 0')\n",
        "plt.show()"
      ]
    },
    {
      "cell_type": "code",
      "execution_count": null,
      "metadata": {
        "id": "ixCccX65ylFu"
      },
      "outputs": [],
      "source": [
        "import pickle"
      ]
    },
    {
      "cell_type": "code",
      "execution_count": null,
      "metadata": {
        "id": "jzLJgT5adOmQ"
      },
      "outputs": [],
      "source": [
        "with open('fname.pkl', 'wb') as f: pickle.dump(net, f)"
      ]
    }
  ],
  "metadata": {
    "accelerator": "GPU",
    "colab": {
      "gpuType": "T4",
      "machine_shape": "hm",
      "provenance": []
    },
    "kernelspec": {
      "display_name": "Python 3",
      "name": "python3"
    },
    "language_info": {
      "codemirror_mode": {
        "name": "ipython",
        "version": 3
      },
      "file_extension": ".py",
      "mimetype": "text/x-python",
      "name": "python",
      "nbconvert_exporter": "python",
      "pygments_lexer": "ipython3",
      "version": "3.7.16"
    },
    "widgets": {
      "application/vnd.jupyter.widget-state+json": {
        "0f34594196e04ca6ae1638d132f547c3": {
          "model_module": "@jupyter-widgets/base",
          "model_module_version": "1.2.0",
          "model_name": "LayoutModel",
          "state": {
            "_model_module": "@jupyter-widgets/base",
            "_model_module_version": "1.2.0",
            "_model_name": "LayoutModel",
            "_view_count": null,
            "_view_module": "@jupyter-widgets/base",
            "_view_module_version": "1.2.0",
            "_view_name": "LayoutView",
            "align_content": null,
            "align_items": null,
            "align_self": null,
            "border": null,
            "bottom": null,
            "display": null,
            "flex": null,
            "flex_flow": null,
            "grid_area": null,
            "grid_auto_columns": null,
            "grid_auto_flow": null,
            "grid_auto_rows": null,
            "grid_column": null,
            "grid_gap": null,
            "grid_row": null,
            "grid_template_areas": null,
            "grid_template_columns": null,
            "grid_template_rows": null,
            "height": null,
            "justify_content": null,
            "justify_items": null,
            "left": null,
            "margin": null,
            "max_height": null,
            "max_width": null,
            "min_height": null,
            "min_width": null,
            "object_fit": null,
            "object_position": null,
            "order": null,
            "overflow": null,
            "overflow_x": null,
            "overflow_y": null,
            "padding": null,
            "right": null,
            "top": null,
            "visibility": null,
            "width": null
          }
        },
        "43250127bc0541418653e6bce0216ef7": {
          "model_module": "@jupyter-widgets/controls",
          "model_module_version": "1.5.0",
          "model_name": "HTMLModel",
          "state": {
            "_dom_classes": [],
            "_model_module": "@jupyter-widgets/controls",
            "_model_module_version": "1.5.0",
            "_model_name": "HTMLModel",
            "_view_count": null,
            "_view_module": "@jupyter-widgets/controls",
            "_view_module_version": "1.5.0",
            "_view_name": "HTMLView",
            "description": "",
            "description_tooltip": null,
            "layout": "IPY_MODEL_0f34594196e04ca6ae1638d132f547c3",
            "placeholder": "​",
            "style": "IPY_MODEL_bd877031a7574bdd8b085c7c2671723f",
            "value": "Downloading: 100%"
          }
        },
        "50854b254bfd4aa38bf8fb868cb1aee7": {
          "model_module": "@jupyter-widgets/base",
          "model_module_version": "1.2.0",
          "model_name": "LayoutModel",
          "state": {
            "_model_module": "@jupyter-widgets/base",
            "_model_module_version": "1.2.0",
            "_model_name": "LayoutModel",
            "_view_count": null,
            "_view_module": "@jupyter-widgets/base",
            "_view_module_version": "1.2.0",
            "_view_name": "LayoutView",
            "align_content": null,
            "align_items": null,
            "align_self": null,
            "border": null,
            "bottom": null,
            "display": null,
            "flex": null,
            "flex_flow": null,
            "grid_area": null,
            "grid_auto_columns": null,
            "grid_auto_flow": null,
            "grid_auto_rows": null,
            "grid_column": null,
            "grid_gap": null,
            "grid_row": null,
            "grid_template_areas": null,
            "grid_template_columns": null,
            "grid_template_rows": null,
            "height": null,
            "justify_content": null,
            "justify_items": null,
            "left": null,
            "margin": null,
            "max_height": null,
            "max_width": null,
            "min_height": null,
            "min_width": null,
            "object_fit": null,
            "object_position": null,
            "order": null,
            "overflow": null,
            "overflow_x": null,
            "overflow_y": null,
            "padding": null,
            "right": null,
            "top": null,
            "visibility": null,
            "width": null
          }
        },
        "5c04d1a080c845a49acefabaca93beab": {
          "model_module": "@jupyter-widgets/base",
          "model_module_version": "1.2.0",
          "model_name": "LayoutModel",
          "state": {
            "_model_module": "@jupyter-widgets/base",
            "_model_module_version": "1.2.0",
            "_model_name": "LayoutModel",
            "_view_count": null,
            "_view_module": "@jupyter-widgets/base",
            "_view_module_version": "1.2.0",
            "_view_name": "LayoutView",
            "align_content": null,
            "align_items": null,
            "align_self": null,
            "border": null,
            "bottom": null,
            "display": null,
            "flex": null,
            "flex_flow": null,
            "grid_area": null,
            "grid_auto_columns": null,
            "grid_auto_flow": null,
            "grid_auto_rows": null,
            "grid_column": null,
            "grid_gap": null,
            "grid_row": null,
            "grid_template_areas": null,
            "grid_template_columns": null,
            "grid_template_rows": null,
            "height": null,
            "justify_content": null,
            "justify_items": null,
            "left": null,
            "margin": null,
            "max_height": null,
            "max_width": null,
            "min_height": null,
            "min_width": null,
            "object_fit": null,
            "object_position": null,
            "order": null,
            "overflow": null,
            "overflow_x": null,
            "overflow_y": null,
            "padding": null,
            "right": null,
            "top": null,
            "visibility": null,
            "width": null
          }
        },
        "71c12750535e4b0fa39978fa7573c5e6": {
          "model_module": "@jupyter-widgets/controls",
          "model_module_version": "1.5.0",
          "model_name": "HBoxModel",
          "state": {
            "_dom_classes": [],
            "_model_module": "@jupyter-widgets/controls",
            "_model_module_version": "1.5.0",
            "_model_name": "HBoxModel",
            "_view_count": null,
            "_view_module": "@jupyter-widgets/controls",
            "_view_module_version": "1.5.0",
            "_view_name": "HBoxView",
            "box_style": "",
            "children": [
              "IPY_MODEL_43250127bc0541418653e6bce0216ef7",
              "IPY_MODEL_a858edf3bf774b76af54591963d94427",
              "IPY_MODEL_a07b9fde2e7947e68038f6e3a08e85f2"
            ],
            "layout": "IPY_MODEL_50854b254bfd4aa38bf8fb868cb1aee7"
          }
        },
        "795ec14fd4d640979932fdf20eca5538": {
          "model_module": "@jupyter-widgets/controls",
          "model_module_version": "1.5.0",
          "model_name": "DescriptionStyleModel",
          "state": {
            "_model_module": "@jupyter-widgets/controls",
            "_model_module_version": "1.5.0",
            "_model_name": "DescriptionStyleModel",
            "_view_count": null,
            "_view_module": "@jupyter-widgets/base",
            "_view_module_version": "1.2.0",
            "_view_name": "StyleView",
            "description_width": ""
          }
        },
        "95b2ddffd7124d11ac6068a29a769ac5": {
          "model_module": "@jupyter-widgets/base",
          "model_module_version": "1.2.0",
          "model_name": "LayoutModel",
          "state": {
            "_model_module": "@jupyter-widgets/base",
            "_model_module_version": "1.2.0",
            "_model_name": "LayoutModel",
            "_view_count": null,
            "_view_module": "@jupyter-widgets/base",
            "_view_module_version": "1.2.0",
            "_view_name": "LayoutView",
            "align_content": null,
            "align_items": null,
            "align_self": null,
            "border": null,
            "bottom": null,
            "display": null,
            "flex": null,
            "flex_flow": null,
            "grid_area": null,
            "grid_auto_columns": null,
            "grid_auto_flow": null,
            "grid_auto_rows": null,
            "grid_column": null,
            "grid_gap": null,
            "grid_row": null,
            "grid_template_areas": null,
            "grid_template_columns": null,
            "grid_template_rows": null,
            "height": null,
            "justify_content": null,
            "justify_items": null,
            "left": null,
            "margin": null,
            "max_height": null,
            "max_width": null,
            "min_height": null,
            "min_width": null,
            "object_fit": null,
            "object_position": null,
            "order": null,
            "overflow": null,
            "overflow_x": null,
            "overflow_y": null,
            "padding": null,
            "right": null,
            "top": null,
            "visibility": null,
            "width": null
          }
        },
        "a07b9fde2e7947e68038f6e3a08e85f2": {
          "model_module": "@jupyter-widgets/controls",
          "model_module_version": "1.5.0",
          "model_name": "HTMLModel",
          "state": {
            "_dom_classes": [],
            "_model_module": "@jupyter-widgets/controls",
            "_model_module_version": "1.5.0",
            "_model_name": "HTMLModel",
            "_view_count": null,
            "_view_module": "@jupyter-widgets/controls",
            "_view_module_version": "1.5.0",
            "_view_name": "HTMLView",
            "description": "",
            "description_tooltip": null,
            "layout": "IPY_MODEL_5c04d1a080c845a49acefabaca93beab",
            "placeholder": "​",
            "style": "IPY_MODEL_795ec14fd4d640979932fdf20eca5538",
            "value": " 2.18G/2.18G [00:39&lt;00:00, 67.2MB/s]"
          }
        },
        "a858edf3bf774b76af54591963d94427": {
          "model_module": "@jupyter-widgets/controls",
          "model_module_version": "1.5.0",
          "model_name": "FloatProgressModel",
          "state": {
            "_dom_classes": [],
            "_model_module": "@jupyter-widgets/controls",
            "_model_module_version": "1.5.0",
            "_model_name": "FloatProgressModel",
            "_view_count": null,
            "_view_module": "@jupyter-widgets/controls",
            "_view_module_version": "1.5.0",
            "_view_name": "ProgressView",
            "bar_style": "success",
            "description": "",
            "description_tooltip": null,
            "layout": "IPY_MODEL_95b2ddffd7124d11ac6068a29a769ac5",
            "max": 2182040332,
            "min": 0,
            "orientation": "horizontal",
            "style": "IPY_MODEL_d582dbbc505043d7bbe390d5f15bcc32",
            "value": 2182040332
          }
        },
        "bd877031a7574bdd8b085c7c2671723f": {
          "model_module": "@jupyter-widgets/controls",
          "model_module_version": "1.5.0",
          "model_name": "DescriptionStyleModel",
          "state": {
            "_model_module": "@jupyter-widgets/controls",
            "_model_module_version": "1.5.0",
            "_model_name": "DescriptionStyleModel",
            "_view_count": null,
            "_view_module": "@jupyter-widgets/base",
            "_view_module_version": "1.2.0",
            "_view_name": "StyleView",
            "description_width": ""
          }
        },
        "d582dbbc505043d7bbe390d5f15bcc32": {
          "model_module": "@jupyter-widgets/controls",
          "model_module_version": "1.5.0",
          "model_name": "ProgressStyleModel",
          "state": {
            "_model_module": "@jupyter-widgets/controls",
            "_model_module_version": "1.5.0",
            "_model_name": "ProgressStyleModel",
            "_view_count": null,
            "_view_module": "@jupyter-widgets/base",
            "_view_module_version": "1.2.0",
            "_view_name": "StyleView",
            "bar_color": null,
            "description_width": ""
          }
        }
      }
    }
  },
  "nbformat": 4,
  "nbformat_minor": 0
}

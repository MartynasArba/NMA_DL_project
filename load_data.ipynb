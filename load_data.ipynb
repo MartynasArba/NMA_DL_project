{
 "cells": [
  {
   "cell_type": "code",
   "execution_count": 1,
   "metadata": {},
   "outputs": [
    {
     "name": "stderr",
     "output_type": "stream",
     "text": [
      "c:\\ProgramData\\Anaconda3\\envs\\allen_loader\\lib\\site-packages\\tqdm\\auto.py:21: TqdmWarning: IProgress not found. Please update jupyter and ipywidgets. See https://ipywidgets.readthedocs.io/en/stable/user_install.html\n",
      "  from .autonotebook import tqdm as notebook_tqdm\n"
     ]
    }
   ],
   "source": [
    "import os\n",
    "import tqdm\n",
    "import numpy as np\n",
    "import pandas as pd\n",
    "import matplotlib.pyplot as plt\n",
    "\n",
    "from allensdk.brain_observatory.ecephys.ecephys_project_cache import EcephysProjectCache"
   ]
  },
  {
   "cell_type": "code",
   "execution_count": 2,
   "metadata": {},
   "outputs": [],
   "source": [
    "import pickle"
   ]
  },
  {
   "cell_type": "code",
   "execution_count": 3,
   "metadata": {},
   "outputs": [],
   "source": [
    "\n",
    "data_dir = './data'\n",
    "manifest_path = os.path.join(data_dir, 'manifest.json')\n",
    "\n",
    "cache = EcephysProjectCache.from_warehouse(manifest=manifest_path)"
   ]
  },
  {
   "cell_type": "code",
   "execution_count": 4,
   "metadata": {},
   "outputs": [],
   "source": [
    "#downloads data - takes 5min\n",
    "sessions = cache.get_session_table()"
   ]
  },
  {
   "cell_type": "code",
   "execution_count": 5,
   "metadata": {},
   "outputs": [
    {
     "data": {
      "text/plain": [
       "58"
      ]
     },
     "execution_count": 5,
     "metadata": {},
     "output_type": "execute_result"
    }
   ],
   "source": [
    "len(sessions)"
   ]
  },
  {
   "cell_type": "code",
   "execution_count": 6,
   "metadata": {},
   "outputs": [
    {
     "data": {
      "text/plain": [
       "Index(['published_at', 'specimen_id', 'session_type', 'age_in_days', 'sex',\n",
       "       'full_genotype', 'unit_count', 'channel_count', 'probe_count',\n",
       "       'ecephys_structure_acronyms'],\n",
       "      dtype='object')"
      ]
     },
     "execution_count": 6,
     "metadata": {},
     "output_type": "execute_result"
    }
   ],
   "source": [
    "sessions.columns"
   ]
  },
  {
   "cell_type": "code",
   "execution_count": 7,
   "metadata": {},
   "outputs": [],
   "source": [
    "i = 4\n",
    "\n",
    "session = cache.get_session_data(sessions.index.values[i],\n",
    "                                 isi_violations_maximum = np.inf,\n",
    "                                 amplitude_cutoff_maximum = np.inf,\n",
    "                                 presence_ratio_minimum = -np.inf,\n",
    "                                 timeout = None)"
   ]
  },
  {
   "cell_type": "code",
   "execution_count": 8,
   "metadata": {},
   "outputs": [
    {
     "name": "stdout",
     "output_type": "stream",
     "text": [
      "\u001b[1;31mType:\u001b[0m           EcephysSession\n",
      "\u001b[1;31mString form:\u001b[0m    <allensdk.brain_observatory.ecephys.ecephys_session.EcephysSession object at 0x00000271CE97F7F0>\n",
      "\u001b[1;31mFile:\u001b[0m           c:\\programdata\\anaconda3\\envs\\allen_loader\\lib\\site-packages\\allensdk\\brain_observatory\\ecephys\\ecephys_session.py\n",
      "\u001b[1;31mDocstring:\u001b[0m     \n",
      "Represents data from a single EcephysSession\n",
      "\n",
      "Attributes\n",
      "----------\n",
      "units : pd.Dataframe\n",
      "    A table whose rows are sorted units (putative neurons) and whose\n",
      "    columns are characteristics of those units.\n",
      "    Index is:\n",
      "        unit_id : int\n",
      "            Unique integer identifier for this unit.\n",
      "    Columns are:\n",
      "        firing_rate : float\n",
      "            This unit's firing rate (spikes / s) calculated over the\n",
      "            window of that unit's activity (the time from its first\n",
      "            detected spike to its last).\n",
      "        isi_violations : float\n",
      "            Estamate of this unit's contamination rate (larger means\n",
      "            that more of the spikes assigned to this unit probably\n",
      "            originated from other neurons). Calculated as a ratio of the\n",
      "            firing rate of the unit over periods where spikes would be\n",
      "            isi-violating vs the total firing rate of the unit.\n",
      "        peak_channel_id : int\n",
      "            Unique integer identifier for this unit's peak channel.\n",
      "            A unit's peak channel is the channel on which its\n",
      "            peak-to-trough amplitude difference is maximized. This is\n",
      "            assessed using the kilosort 2 templates rather than the mean\n",
      "            waveforms for a unit.\n",
      "        snr : float\n",
      "            Signal to noise ratio for this unit.\n",
      "        probe_horizontal_position :  numeric\n",
      "            The horizontal (short-axis) position of this unit's peak\n",
      "            channel in microns.\n",
      "        probe_vertical_position : numeric\n",
      "            The vertical (long-axis, lower values are closer to the probe\n",
      "            base) position of this unit's peak channel in microns.\n",
      "        probe_id : int\n",
      "            Unique integer identifier for this unit's probe.\n",
      "        probe_description : str\n",
      "            Human-readable description carrying miscellaneous information\n",
      "            about this unit's probe.\n",
      "        location : str\n",
      "            Gross-scale location of this unit's probe.\n",
      "spike_times : dict\n",
      "    Maps integer unit ids to arrays of spike times (float) for those units.\n",
      "running_speed : RunningSpeed\n",
      "    NamedTuple with two fields\n",
      "        timestamps : numpy.ndarray\n",
      "            Timestamps of running speed data samples\n",
      "        values : np.ndarray\n",
      "            Running speed of the experimental subject (in cm / s).\n",
      "mean_waveforms : dict\n",
      "    Maps integer unit ids to xarray.DataArrays containing mean spike\n",
      "    waveforms for that unit.\n",
      "stimulus_presentations : pd.DataFrame\n",
      "    Table whose rows are stimulus presentations and whose columns are\n",
      "    presentation characteristics. A stimulus presentation is the smallest\n",
      "    unit of distinct stimulus presentation and lasts for (usually) 1 60 Hz\n",
      "    frame. Since not all parameters are relevant to all stimuli, this table\n",
      "    contains many 'null' values.\n",
      "    Index is\n",
      "        stimulus_presentation_id : int\n",
      "            Unique identifier for this stimulus presentation\n",
      "    Columns are\n",
      "        start_time :  float\n",
      "            Time (s) at which this presentation began\n",
      "        stop_time : float\n",
      "            Time (s) at which this presentation ended\n",
      "        duration : float\n",
      "            stop_time - start_time (s). Included for convenience.\n",
      "        stimulus_name : str\n",
      "            Identifies the stimulus family (e.g. \"drifting_gratings\" or\n",
      "            \"natural_movie_3\") used for this presentation. The stimulus\n",
      "            family, along with relevant parameter values, provides the\n",
      "            information required to reconstruct the stimulus presented\n",
      "            during this presentation. The empty string indicates a blank\n",
      "            period.\n",
      "        stimulus_block : numeric\n",
      "            A stimulus block is made by sequentially presenting\n",
      "            presentations from the same stimulus family. This value is the\n",
      "            index of the block which contains this presentation.\n",
      "            During a blank period, this is 'null'.\n",
      "        TF : float\n",
      "            Temporal frequency, or 'null' when not appropriate.\n",
      "        SF : float\n",
      "            Spatial frequency, or 'null' when not appropriate\n",
      "        Ori : float\n",
      "            Orientation (in degrees) or 'null' when not appropriate\n",
      "        Contrast : float\n",
      "        Pos_x : float\n",
      "        Pos_y : float\n",
      "        Color : numeric\n",
      "        Image : numeric\n",
      "        Phase : float\n",
      "        stimulus_condition_id : integer\n",
      "            identifies the session-unique stimulus condition (permutation\n",
      "            of parameters) to which this presentation belongs\n",
      "stimulus_conditions : pd.DataFrame\n",
      "    Each row is a unique permutation (within this session) of stimulus\n",
      "    parameters presented during this experiment. Columns are as stimulus\n",
      "    presentations, sans start_time, end_time, stimulus_block, and duration.\n",
      "inter_presentation_intervals : pd.DataFrame\n",
      "    The elapsed time between each immediately sequential pair of stimulus\n",
      "    presentations. This is a dataframe with a two-level multiindex (levels\n",
      "     are 'from_presentation_id' and 'to_presentation_id'). It has a single\n",
      "    column, 'interval', which reports the elapsed time between the\n",
      "    two presentations in seconds on the experiment's master\n",
      "    clock.\n",
      "\u001b[1;31mInit docstring:\u001b[0m\n",
      "Construct an EcephysSession object, which provides access to\n",
      "detailed data for a single extracellular electrophysiology\n",
      "(neuropixels) session.\n",
      "\n",
      "Parameters\n",
      "----------\n",
      "api :\n",
      "    Used to access data, which is then cached on this object. Must\n",
      "    expose the EcephysSessionApi interface. Standard options include\n",
      "    instances of:\n",
      "        EcephysSessionNwbApi :: reads data from a neurodata without\n",
      "            borders 2.0 file.\n",
      "test :\n",
      "    If true, check during construction that this session's api is\n",
      "    valid.\n"
     ]
    }
   ],
   "source": [
    "session?"
   ]
  },
  {
   "cell_type": "code",
   "execution_count": 9,
   "metadata": {},
   "outputs": [],
   "source": [
    "# session.metadata #takes too long to run everytime"
   ]
  },
  {
   "cell_type": "code",
   "execution_count": 10,
   "metadata": {},
   "outputs": [],
   "source": [
    "units = session.units"
   ]
  },
  {
   "cell_type": "code",
   "execution_count": 11,
   "metadata": {},
   "outputs": [
    {
     "name": "stdout",
     "output_type": "stream",
     "text": [
      "Total number of units:1453\n"
     ]
    },
    {
     "data": {
      "text/html": [
       "<div>\n",
       "<style scoped>\n",
       "    .dataframe tbody tr th:only-of-type {\n",
       "        vertical-align: middle;\n",
       "    }\n",
       "\n",
       "    .dataframe tbody tr th {\n",
       "        vertical-align: top;\n",
       "    }\n",
       "\n",
       "    .dataframe thead th {\n",
       "        text-align: right;\n",
       "    }\n",
       "</style>\n",
       "<table border=\"1\" class=\"dataframe\">\n",
       "  <thead>\n",
       "    <tr style=\"text-align: right;\">\n",
       "      <th></th>\n",
       "      <th>waveform_PT_ratio</th>\n",
       "      <th>waveform_amplitude</th>\n",
       "      <th>amplitude_cutoff</th>\n",
       "      <th>cluster_id</th>\n",
       "      <th>cumulative_drift</th>\n",
       "      <th>d_prime</th>\n",
       "      <th>firing_rate</th>\n",
       "      <th>isi_violations</th>\n",
       "      <th>isolation_distance</th>\n",
       "      <th>L_ratio</th>\n",
       "      <th>...</th>\n",
       "      <th>ecephys_structure_id</th>\n",
       "      <th>ecephys_structure_acronym</th>\n",
       "      <th>anterior_posterior_ccf_coordinate</th>\n",
       "      <th>dorsal_ventral_ccf_coordinate</th>\n",
       "      <th>left_right_ccf_coordinate</th>\n",
       "      <th>probe_description</th>\n",
       "      <th>location</th>\n",
       "      <th>probe_sampling_rate</th>\n",
       "      <th>probe_lfp_sampling_rate</th>\n",
       "      <th>probe_has_lfp_data</th>\n",
       "    </tr>\n",
       "    <tr>\n",
       "      <th>unit_id</th>\n",
       "      <th></th>\n",
       "      <th></th>\n",
       "      <th></th>\n",
       "      <th></th>\n",
       "      <th></th>\n",
       "      <th></th>\n",
       "      <th></th>\n",
       "      <th></th>\n",
       "      <th></th>\n",
       "      <th></th>\n",
       "      <th></th>\n",
       "      <th></th>\n",
       "      <th></th>\n",
       "      <th></th>\n",
       "      <th></th>\n",
       "      <th></th>\n",
       "      <th></th>\n",
       "      <th></th>\n",
       "      <th></th>\n",
       "      <th></th>\n",
       "      <th></th>\n",
       "    </tr>\n",
       "  </thead>\n",
       "  <tbody>\n",
       "    <tr>\n",
       "      <th>951872924</th>\n",
       "      <td>0.815136</td>\n",
       "      <td>78.245895</td>\n",
       "      <td>0.359461</td>\n",
       "      <td>0</td>\n",
       "      <td>613.14</td>\n",
       "      <td>NaN</td>\n",
       "      <td>7.324416</td>\n",
       "      <td>0.370530</td>\n",
       "      <td>NaN</td>\n",
       "      <td>NaN</td>\n",
       "      <td>...</td>\n",
       "      <td>8.0</td>\n",
       "      <td>grey</td>\n",
       "      <td>NaN</td>\n",
       "      <td>NaN</td>\n",
       "      <td>NaN</td>\n",
       "      <td>probeA</td>\n",
       "      <td>See electrode locations</td>\n",
       "      <td>29999.970319</td>\n",
       "      <td>1249.998763</td>\n",
       "      <td>True</td>\n",
       "    </tr>\n",
       "    <tr>\n",
       "      <th>951872955</th>\n",
       "      <td>0.685927</td>\n",
       "      <td>81.151200</td>\n",
       "      <td>0.116644</td>\n",
       "      <td>2</td>\n",
       "      <td>599.86</td>\n",
       "      <td>6.189100</td>\n",
       "      <td>1.815070</td>\n",
       "      <td>4.256853</td>\n",
       "      <td>76.365325</td>\n",
       "      <td>0.003080</td>\n",
       "      <td>...</td>\n",
       "      <td>8.0</td>\n",
       "      <td>grey</td>\n",
       "      <td>NaN</td>\n",
       "      <td>NaN</td>\n",
       "      <td>NaN</td>\n",
       "      <td>probeA</td>\n",
       "      <td>See electrode locations</td>\n",
       "      <td>29999.970319</td>\n",
       "      <td>1249.998763</td>\n",
       "      <td>True</td>\n",
       "    </tr>\n",
       "    <tr>\n",
       "      <th>951872972</th>\n",
       "      <td>0.491988</td>\n",
       "      <td>94.317600</td>\n",
       "      <td>0.500000</td>\n",
       "      <td>3</td>\n",
       "      <td>559.90</td>\n",
       "      <td>3.297011</td>\n",
       "      <td>1.139876</td>\n",
       "      <td>9.553076</td>\n",
       "      <td>47.860113</td>\n",
       "      <td>0.053102</td>\n",
       "      <td>...</td>\n",
       "      <td>8.0</td>\n",
       "      <td>grey</td>\n",
       "      <td>NaN</td>\n",
       "      <td>NaN</td>\n",
       "      <td>NaN</td>\n",
       "      <td>probeA</td>\n",
       "      <td>See electrode locations</td>\n",
       "      <td>29999.970319</td>\n",
       "      <td>1249.998763</td>\n",
       "      <td>True</td>\n",
       "    </tr>\n",
       "    <tr>\n",
       "      <th>951872999</th>\n",
       "      <td>0.507304</td>\n",
       "      <td>110.062680</td>\n",
       "      <td>0.157912</td>\n",
       "      <td>5</td>\n",
       "      <td>200.34</td>\n",
       "      <td>4.020396</td>\n",
       "      <td>1.462059</td>\n",
       "      <td>11.492885</td>\n",
       "      <td>62.799721</td>\n",
       "      <td>0.012955</td>\n",
       "      <td>...</td>\n",
       "      <td>8.0</td>\n",
       "      <td>grey</td>\n",
       "      <td>NaN</td>\n",
       "      <td>NaN</td>\n",
       "      <td>NaN</td>\n",
       "      <td>probeA</td>\n",
       "      <td>See electrode locations</td>\n",
       "      <td>29999.970319</td>\n",
       "      <td>1249.998763</td>\n",
       "      <td>True</td>\n",
       "    </tr>\n",
       "    <tr>\n",
       "      <th>951873012</th>\n",
       "      <td>0.590212</td>\n",
       "      <td>91.337610</td>\n",
       "      <td>0.500000</td>\n",
       "      <td>6</td>\n",
       "      <td>251.63</td>\n",
       "      <td>2.315217</td>\n",
       "      <td>3.567084</td>\n",
       "      <td>0.993823</td>\n",
       "      <td>87.069361</td>\n",
       "      <td>0.031431</td>\n",
       "      <td>...</td>\n",
       "      <td>8.0</td>\n",
       "      <td>grey</td>\n",
       "      <td>NaN</td>\n",
       "      <td>NaN</td>\n",
       "      <td>NaN</td>\n",
       "      <td>probeA</td>\n",
       "      <td>See electrode locations</td>\n",
       "      <td>29999.970319</td>\n",
       "      <td>1249.998763</td>\n",
       "      <td>True</td>\n",
       "    </tr>\n",
       "  </tbody>\n",
       "</table>\n",
       "<p>5 rows × 40 columns</p>\n",
       "</div>"
      ],
      "text/plain": [
       "           waveform_PT_ratio  waveform_amplitude  amplitude_cutoff  \\\n",
       "unit_id                                                              \n",
       "951872924           0.815136           78.245895          0.359461   \n",
       "951872955           0.685927           81.151200          0.116644   \n",
       "951872972           0.491988           94.317600          0.500000   \n",
       "951872999           0.507304          110.062680          0.157912   \n",
       "951873012           0.590212           91.337610          0.500000   \n",
       "\n",
       "           cluster_id  cumulative_drift   d_prime  firing_rate  \\\n",
       "unit_id                                                          \n",
       "951872924           0            613.14       NaN     7.324416   \n",
       "951872955           2            599.86  6.189100     1.815070   \n",
       "951872972           3            559.90  3.297011     1.139876   \n",
       "951872999           5            200.34  4.020396     1.462059   \n",
       "951873012           6            251.63  2.315217     3.567084   \n",
       "\n",
       "           isi_violations  isolation_distance   L_ratio  ...  \\\n",
       "unit_id                                                  ...   \n",
       "951872924        0.370530                 NaN       NaN  ...   \n",
       "951872955        4.256853           76.365325  0.003080  ...   \n",
       "951872972        9.553076           47.860113  0.053102  ...   \n",
       "951872999       11.492885           62.799721  0.012955  ...   \n",
       "951873012        0.993823           87.069361  0.031431  ...   \n",
       "\n",
       "           ecephys_structure_id  ecephys_structure_acronym  \\\n",
       "unit_id                                                      \n",
       "951872924                   8.0                       grey   \n",
       "951872955                   8.0                       grey   \n",
       "951872972                   8.0                       grey   \n",
       "951872999                   8.0                       grey   \n",
       "951873012                   8.0                       grey   \n",
       "\n",
       "           anterior_posterior_ccf_coordinate  dorsal_ventral_ccf_coordinate  \\\n",
       "unit_id                                                                       \n",
       "951872924                                NaN                            NaN   \n",
       "951872955                                NaN                            NaN   \n",
       "951872972                                NaN                            NaN   \n",
       "951872999                                NaN                            NaN   \n",
       "951873012                                NaN                            NaN   \n",
       "\n",
       "           left_right_ccf_coordinate  probe_description  \\\n",
       "unit_id                                                   \n",
       "951872924                        NaN             probeA   \n",
       "951872955                        NaN             probeA   \n",
       "951872972                        NaN             probeA   \n",
       "951872999                        NaN             probeA   \n",
       "951873012                        NaN             probeA   \n",
       "\n",
       "                          location  probe_sampling_rate  \\\n",
       "unit_id                                                   \n",
       "951872924  See electrode locations         29999.970319   \n",
       "951872955  See electrode locations         29999.970319   \n",
       "951872972  See electrode locations         29999.970319   \n",
       "951872999  See electrode locations         29999.970319   \n",
       "951873012  See electrode locations         29999.970319   \n",
       "\n",
       "           probe_lfp_sampling_rate  probe_has_lfp_data  \n",
       "unit_id                                                 \n",
       "951872924              1249.998763                True  \n",
       "951872955              1249.998763                True  \n",
       "951872972              1249.998763                True  \n",
       "951872999              1249.998763                True  \n",
       "951873012              1249.998763                True  \n",
       "\n",
       "[5 rows x 40 columns]"
      ]
     },
     "execution_count": 11,
     "metadata": {},
     "output_type": "execute_result"
    }
   ],
   "source": [
    "print('Total number of units:' + str(len(units)))\n",
    "units.head()"
   ]
  },
  {
   "cell_type": "code",
   "execution_count": 12,
   "metadata": {},
   "outputs": [
    {
     "name": "stdout",
     "output_type": "stream",
     "text": [
      "Total number of low contamination units:49\n"
     ]
    }
   ],
   "source": [
    "#filtering units\n",
    "V1_units = units[(units.ecephys_structure_acronym == 'VISp') &\n",
    "                 (units.isi_violations < 0.1)]\n",
    "\n",
    "print('Total number of low contamination units:' + str(len(V1_units)))"
   ]
  },
  {
   "cell_type": "code",
   "execution_count": 13,
   "metadata": {},
   "outputs": [
    {
     "data": {
      "text/plain": [
       "array([951867921, 951867908, 951867993, 951867963, 951867935, 951868041,\n",
       "       951870245, 951868026, 951867948, 951870654, 951870258, 951868164,\n",
       "       951868229, 951868213, 951868296, 951868375, 951868362, 951868331,\n",
       "       951868444, 951868431, 951868418, 951868404, 951868527, 951868515,\n",
       "       951868473, 951868585, 951868633, 951868616, 951870296, 951868820,\n",
       "       951868676, 951868744, 951868864, 951868924, 951869028, 951869012,\n",
       "       951870308, 951869143, 951870323, 951869357, 951870335, 951870350,\n",
       "       951869514, 951869470, 951869622, 951869529, 951869485, 951870543,\n",
       "       951870405], dtype=int64)"
      ]
     },
     "execution_count": 13,
     "metadata": {},
     "output_type": "execute_result"
    }
   ],
   "source": [
    "V1_units.index.values"
   ]
  },
  {
   "cell_type": "code",
   "execution_count": 14,
   "metadata": {},
   "outputs": [
    {
     "data": {
      "text/plain": [
       "['spontaneous',\n",
       " 'gabors',\n",
       " 'flashes',\n",
       " 'invalid_presentation',\n",
       " 'drifting_gratings',\n",
       " 'natural_movie_three',\n",
       " 'natural_movie_one',\n",
       " 'static_gratings',\n",
       " 'natural_scenes']"
      ]
     },
     "execution_count": 14,
     "metadata": {},
     "output_type": "execute_result"
    }
   ],
   "source": [
    "session.stimulus_names"
   ]
  },
  {
   "cell_type": "code",
   "execution_count": 15,
   "metadata": {},
   "outputs": [],
   "source": [
    "stim_cats = ['drifting_gratings', 'gabors', 'flashes', 'spontaneous']"
   ]
  },
  {
   "cell_type": "code",
   "execution_count": 16,
   "metadata": {},
   "outputs": [
    {
     "data": {
      "text/html": [
       "<div>\n",
       "<style scoped>\n",
       "    .dataframe tbody tr th:only-of-type {\n",
       "        vertical-align: middle;\n",
       "    }\n",
       "\n",
       "    .dataframe tbody tr th {\n",
       "        vertical-align: top;\n",
       "    }\n",
       "\n",
       "    .dataframe thead th {\n",
       "        text-align: right;\n",
       "    }\n",
       "</style>\n",
       "<table border=\"1\" class=\"dataframe\">\n",
       "  <thead>\n",
       "    <tr style=\"text-align: right;\">\n",
       "      <th></th>\n",
       "      <th>color</th>\n",
       "      <th>contrast</th>\n",
       "      <th>orientation</th>\n",
       "      <th>phase</th>\n",
       "      <th>size</th>\n",
       "      <th>spatial_frequency</th>\n",
       "      <th>start_time</th>\n",
       "      <th>stimulus_block</th>\n",
       "      <th>stimulus_name</th>\n",
       "      <th>stop_time</th>\n",
       "      <th>temporal_frequency</th>\n",
       "      <th>x_position</th>\n",
       "      <th>y_position</th>\n",
       "      <th>duration</th>\n",
       "      <th>stimulus_condition_id</th>\n",
       "    </tr>\n",
       "    <tr>\n",
       "      <th>stimulus_presentation_id</th>\n",
       "      <th></th>\n",
       "      <th></th>\n",
       "      <th></th>\n",
       "      <th></th>\n",
       "      <th></th>\n",
       "      <th></th>\n",
       "      <th></th>\n",
       "      <th></th>\n",
       "      <th></th>\n",
       "      <th></th>\n",
       "      <th></th>\n",
       "      <th></th>\n",
       "      <th></th>\n",
       "      <th></th>\n",
       "      <th></th>\n",
       "    </tr>\n",
       "  </thead>\n",
       "  <tbody>\n",
       "    <tr>\n",
       "      <th>0</th>\n",
       "      <td>null</td>\n",
       "      <td>null</td>\n",
       "      <td>null</td>\n",
       "      <td>null</td>\n",
       "      <td>null</td>\n",
       "      <td>null</td>\n",
       "      <td>28.998830</td>\n",
       "      <td>null</td>\n",
       "      <td>spontaneous</td>\n",
       "      <td>89.065570</td>\n",
       "      <td>null</td>\n",
       "      <td>null</td>\n",
       "      <td>null</td>\n",
       "      <td>60.066740</td>\n",
       "      <td>0.0</td>\n",
       "    </tr>\n",
       "    <tr>\n",
       "      <th>1</th>\n",
       "      <td>null</td>\n",
       "      <td>0.8</td>\n",
       "      <td>90.0</td>\n",
       "      <td>[3644.93333333, 3644.93333333]</td>\n",
       "      <td>[20.0, 20.0]</td>\n",
       "      <td>0.08</td>\n",
       "      <td>89.065570</td>\n",
       "      <td>0.0</td>\n",
       "      <td>gabors</td>\n",
       "      <td>89.299092</td>\n",
       "      <td>4.0</td>\n",
       "      <td>-20.0</td>\n",
       "      <td>30.0</td>\n",
       "      <td>0.233522</td>\n",
       "      <td>1.0</td>\n",
       "    </tr>\n",
       "    <tr>\n",
       "      <th>2</th>\n",
       "      <td>null</td>\n",
       "      <td>0.8</td>\n",
       "      <td>45.0</td>\n",
       "      <td>[3644.93333333, 3644.93333333]</td>\n",
       "      <td>[20.0, 20.0]</td>\n",
       "      <td>0.08</td>\n",
       "      <td>89.299092</td>\n",
       "      <td>0.0</td>\n",
       "      <td>gabors</td>\n",
       "      <td>89.549295</td>\n",
       "      <td>4.0</td>\n",
       "      <td>30.0</td>\n",
       "      <td>-40.0</td>\n",
       "      <td>0.250203</td>\n",
       "      <td>2.0</td>\n",
       "    </tr>\n",
       "    <tr>\n",
       "      <th>3</th>\n",
       "      <td>null</td>\n",
       "      <td>0.8</td>\n",
       "      <td>0.0</td>\n",
       "      <td>[3644.93333333, 3644.93333333]</td>\n",
       "      <td>[20.0, 20.0]</td>\n",
       "      <td>0.08</td>\n",
       "      <td>89.549295</td>\n",
       "      <td>0.0</td>\n",
       "      <td>gabors</td>\n",
       "      <td>89.799498</td>\n",
       "      <td>4.0</td>\n",
       "      <td>-20.0</td>\n",
       "      <td>30.0</td>\n",
       "      <td>0.250203</td>\n",
       "      <td>3.0</td>\n",
       "    </tr>\n",
       "    <tr>\n",
       "      <th>4</th>\n",
       "      <td>null</td>\n",
       "      <td>0.8</td>\n",
       "      <td>45.0</td>\n",
       "      <td>[3644.93333333, 3644.93333333]</td>\n",
       "      <td>[20.0, 20.0]</td>\n",
       "      <td>0.08</td>\n",
       "      <td>89.799498</td>\n",
       "      <td>0.0</td>\n",
       "      <td>gabors</td>\n",
       "      <td>90.049700</td>\n",
       "      <td>4.0</td>\n",
       "      <td>-10.0</td>\n",
       "      <td>-10.0</td>\n",
       "      <td>0.250203</td>\n",
       "      <td>4.0</td>\n",
       "    </tr>\n",
       "    <tr>\n",
       "      <th>...</th>\n",
       "      <td>...</td>\n",
       "      <td>...</td>\n",
       "      <td>...</td>\n",
       "      <td>...</td>\n",
       "      <td>...</td>\n",
       "      <td>...</td>\n",
       "      <td>...</td>\n",
       "      <td>...</td>\n",
       "      <td>...</td>\n",
       "      <td>...</td>\n",
       "      <td>...</td>\n",
       "      <td>...</td>\n",
       "      <td>...</td>\n",
       "      <td>...</td>\n",
       "      <td>...</td>\n",
       "    </tr>\n",
       "    <tr>\n",
       "      <th>51354</th>\n",
       "      <td>null</td>\n",
       "      <td>null</td>\n",
       "      <td>null</td>\n",
       "      <td>null</td>\n",
       "      <td>null</td>\n",
       "      <td>null</td>\n",
       "      <td>5883.921970</td>\n",
       "      <td>null</td>\n",
       "      <td>spontaneous</td>\n",
       "      <td>5913.947050</td>\n",
       "      <td>null</td>\n",
       "      <td>null</td>\n",
       "      <td>null</td>\n",
       "      <td>30.025080</td>\n",
       "      <td>0.0</td>\n",
       "    </tr>\n",
       "    <tr>\n",
       "      <th>55196</th>\n",
       "      <td>null</td>\n",
       "      <td>null</td>\n",
       "      <td>null</td>\n",
       "      <td>null</td>\n",
       "      <td>null</td>\n",
       "      <td>null</td>\n",
       "      <td>7175.000330</td>\n",
       "      <td>null</td>\n",
       "      <td>spontaneous</td>\n",
       "      <td>7205.025420</td>\n",
       "      <td>null</td>\n",
       "      <td>null</td>\n",
       "      <td>null</td>\n",
       "      <td>30.025090</td>\n",
       "      <td>0.0</td>\n",
       "    </tr>\n",
       "    <tr>\n",
       "      <th>57117</th>\n",
       "      <td>null</td>\n",
       "      <td>null</td>\n",
       "      <td>null</td>\n",
       "      <td>null</td>\n",
       "      <td>null</td>\n",
       "      <td>null</td>\n",
       "      <td>7685.426650</td>\n",
       "      <td>null</td>\n",
       "      <td>spontaneous</td>\n",
       "      <td>7715.451730</td>\n",
       "      <td>null</td>\n",
       "      <td>null</td>\n",
       "      <td>null</td>\n",
       "      <td>30.025080</td>\n",
       "      <td>0.0</td>\n",
       "    </tr>\n",
       "    <tr>\n",
       "      <th>66118</th>\n",
       "      <td>null</td>\n",
       "      <td>null</td>\n",
       "      <td>null</td>\n",
       "      <td>null</td>\n",
       "      <td>null</td>\n",
       "      <td>null</td>\n",
       "      <td>8015.719150</td>\n",
       "      <td>null</td>\n",
       "      <td>spontaneous</td>\n",
       "      <td>8045.727550</td>\n",
       "      <td>null</td>\n",
       "      <td>null</td>\n",
       "      <td>null</td>\n",
       "      <td>30.008400</td>\n",
       "      <td>0.0</td>\n",
       "    </tr>\n",
       "    <tr>\n",
       "      <th>68229</th>\n",
       "      <td>null</td>\n",
       "      <td>null</td>\n",
       "      <td>null</td>\n",
       "      <td>null</td>\n",
       "      <td>null</td>\n",
       "      <td>null</td>\n",
       "      <td>8573.668495</td>\n",
       "      <td>null</td>\n",
       "      <td>spontaneous</td>\n",
       "      <td>8616.204040</td>\n",
       "      <td>null</td>\n",
       "      <td>null</td>\n",
       "      <td>null</td>\n",
       "      <td>42.535545</td>\n",
       "      <td>0.0</td>\n",
       "    </tr>\n",
       "  </tbody>\n",
       "</table>\n",
       "<p>4435 rows × 15 columns</p>\n",
       "</div>"
      ],
      "text/plain": [
       "                         color contrast orientation  \\\n",
       "stimulus_presentation_id                              \n",
       "0                         null     null        null   \n",
       "1                         null      0.8        90.0   \n",
       "2                         null      0.8        45.0   \n",
       "3                         null      0.8         0.0   \n",
       "4                         null      0.8        45.0   \n",
       "...                        ...      ...         ...   \n",
       "51354                     null     null        null   \n",
       "55196                     null     null        null   \n",
       "57117                     null     null        null   \n",
       "66118                     null     null        null   \n",
       "68229                     null     null        null   \n",
       "\n",
       "                                                   phase          size  \\\n",
       "stimulus_presentation_id                                                 \n",
       "0                                                   null          null   \n",
       "1                         [3644.93333333, 3644.93333333]  [20.0, 20.0]   \n",
       "2                         [3644.93333333, 3644.93333333]  [20.0, 20.0]   \n",
       "3                         [3644.93333333, 3644.93333333]  [20.0, 20.0]   \n",
       "4                         [3644.93333333, 3644.93333333]  [20.0, 20.0]   \n",
       "...                                                  ...           ...   \n",
       "51354                                               null          null   \n",
       "55196                                               null          null   \n",
       "57117                                               null          null   \n",
       "66118                                               null          null   \n",
       "68229                                               null          null   \n",
       "\n",
       "                         spatial_frequency   start_time stimulus_block  \\\n",
       "stimulus_presentation_id                                                 \n",
       "0                                     null    28.998830           null   \n",
       "1                                     0.08    89.065570            0.0   \n",
       "2                                     0.08    89.299092            0.0   \n",
       "3                                     0.08    89.549295            0.0   \n",
       "4                                     0.08    89.799498            0.0   \n",
       "...                                    ...          ...            ...   \n",
       "51354                                 null  5883.921970           null   \n",
       "55196                                 null  7175.000330           null   \n",
       "57117                                 null  7685.426650           null   \n",
       "66118                                 null  8015.719150           null   \n",
       "68229                                 null  8573.668495           null   \n",
       "\n",
       "                         stimulus_name    stop_time temporal_frequency  \\\n",
       "stimulus_presentation_id                                                 \n",
       "0                          spontaneous    89.065570               null   \n",
       "1                               gabors    89.299092                4.0   \n",
       "2                               gabors    89.549295                4.0   \n",
       "3                               gabors    89.799498                4.0   \n",
       "4                               gabors    90.049700                4.0   \n",
       "...                                ...          ...                ...   \n",
       "51354                      spontaneous  5913.947050               null   \n",
       "55196                      spontaneous  7205.025420               null   \n",
       "57117                      spontaneous  7715.451730               null   \n",
       "66118                      spontaneous  8045.727550               null   \n",
       "68229                      spontaneous  8616.204040               null   \n",
       "\n",
       "                         x_position y_position   duration  \\\n",
       "stimulus_presentation_id                                    \n",
       "0                              null       null  60.066740   \n",
       "1                             -20.0       30.0   0.233522   \n",
       "2                              30.0      -40.0   0.250203   \n",
       "3                             -20.0       30.0   0.250203   \n",
       "4                             -10.0      -10.0   0.250203   \n",
       "...                             ...        ...        ...   \n",
       "51354                          null       null  30.025080   \n",
       "55196                          null       null  30.025090   \n",
       "57117                          null       null  30.025080   \n",
       "66118                          null       null  30.008400   \n",
       "68229                          null       null  42.535545   \n",
       "\n",
       "                          stimulus_condition_id  \n",
       "stimulus_presentation_id                         \n",
       "0                                           0.0  \n",
       "1                                           1.0  \n",
       "2                                           2.0  \n",
       "3                                           3.0  \n",
       "4                                           4.0  \n",
       "...                                         ...  \n",
       "51354                                       0.0  \n",
       "55196                                       0.0  \n",
       "57117                                       0.0  \n",
       "66118                                       0.0  \n",
       "68229                                       0.0  \n",
       "\n",
       "[4435 rows x 15 columns]"
      ]
     },
     "execution_count": 16,
     "metadata": {},
     "output_type": "execute_result"
    }
   ],
   "source": [
    "stim_table = session.get_stimulus_table(stim_cats)\n",
    "stim_table"
   ]
  },
  {
   "cell_type": "code",
   "execution_count": 17,
   "metadata": {},
   "outputs": [],
   "source": [
    "def get_bins(stim_time, bin_w = 10, start_adj = 500, end_adj = 2000):\n",
    "    \n",
    "    stim_time_ms = int(stim_time * 1000)\n",
    "    start_ms = stim_time_ms - 500\n",
    "    end_ms = stim_time_ms + 2000\n",
    "    \n",
    "    return np.arange(start_ms, end_ms, bin_w)"
   ]
  },
  {
   "cell_type": "code",
   "execution_count": null,
   "metadata": {},
   "outputs": [
    {
     "name": "stderr",
     "output_type": "stream",
     "text": [
      "  0%|          | 0/4435 [00:00<?, ?it/s]"
     ]
    },
    {
     "name": "stderr",
     "output_type": "stream",
     "text": [
      "100%|██████████| 4435/4435 [01:01<00:00, 72.17it/s] \n"
     ]
    }
   ],
   "source": [
    "firing_rates_all_stim = []\n",
    "#likely inefficient\n",
    "for stim in tqdm.tqdm(stim_table.start_time.to_numpy()):\n",
    "    bins = get_bins(stim) #timepoints of data\n",
    "\n",
    "    #array for storing spike data around one stimulus (units x bins)\n",
    "    firing_rates = np.zeros((len(V1_units.index.values), bins.shape[0]+2))\n",
    "\n",
    "# # #loading spike times\n",
    "    for i, unit in enumerate(V1_units.index.values):\n",
    "        all_spikes = session.spike_times[unit]\n",
    "        stim_spikes = all_spikes[(all_spikes >= stim - 0.5)&(all_spikes < stim + 2)]*1000\n",
    "        rate = np.digitize(stim_spikes, bins)\n",
    "        spikebin, count = np.unique(rate, return_counts = True)\n",
    "        firing_rates[i][spikebin] = count\n",
    "    firing_rates_all_stim.append(firing_rates)\n",
    "    \n",
    "firing_rates_all_stim = np.array(firing_rates_all_stim)\n",
    "#maybe sort the data by firing rate or something? otherwise it's probably hard to compare between animals"
   ]
  },
  {
   "cell_type": "code",
   "execution_count": 19,
   "metadata": {},
   "outputs": [
    {
     "data": {
      "text/plain": [
       "{'drifting_gratings': 0, 'gabors': 1, 'flashes': 2, 'spontaneous': 3}"
      ]
     },
     "execution_count": 19,
     "metadata": {},
     "output_type": "execute_result"
    }
   ],
   "source": [
    "stim_rename = {cat : i for i, cat in enumerate(stim_cats)}\n",
    "stim_rename"
   ]
  },
  {
   "cell_type": "code",
   "execution_count": 20,
   "metadata": {},
   "outputs": [],
   "source": [
    "y_np = stim_table['stimulus_name'].replace(stim_rename).to_numpy()\n"
   ]
  },
  {
   "cell_type": "code",
   "execution_count": 21,
   "metadata": {},
   "outputs": [
    {
     "data": {
      "text/plain": [
       "(4435,)"
      ]
     },
     "execution_count": 21,
     "metadata": {},
     "output_type": "execute_result"
    }
   ],
   "source": [
    "y_np.shape"
   ]
  },
  {
   "cell_type": "code",
   "execution_count": 22,
   "metadata": {},
   "outputs": [
    {
     "data": {
      "text/plain": [
       "(4435, 49, 252)"
      ]
     },
     "execution_count": 22,
     "metadata": {},
     "output_type": "execute_result"
    }
   ],
   "source": [
    "firing_rates_all_stim.shape"
   ]
  },
  {
   "cell_type": "code",
   "execution_count": 23,
   "metadata": {},
   "outputs": [
    {
     "data": {
      "text/plain": [
       "<matplotlib.image.AxesImage at 0x271d25542e8>"
      ]
     },
     "execution_count": 23,
     "metadata": {},
     "output_type": "execute_result"
    },
    {
     "data": {
      "image/png": "[encoded data removed]",
      "text/plain": [
       "<Figure size 640x480 with 1 Axes>"
      ]
     },
     "metadata": {},
     "output_type": "display_data"
    }
   ],
   "source": [
    "plt.imshow(np.mean(firing_rates_all_stim, axis = 0))"
   ]
  },
  {
   "cell_type": "code",
   "execution_count": 24,
   "metadata": {},
   "outputs": [
    {
     "data": {
      "text/plain": [
       "(array([32.,  8.,  2.,  5.,  0.,  0.,  0.,  1.,  0.,  1.]),\n",
       " array([9.92108230e-04, 2.25478241e+00, 4.50857272e+00, 6.76236302e+00,\n",
       "        9.01615333e+00, 1.12699436e+01, 1.35237339e+01, 1.57775242e+01,\n",
       "        1.80313145e+01, 2.02851048e+01, 2.25388952e+01]),\n",
       " <BarContainer object of 10 artists>)"
      ]
     },
     "execution_count": 24,
     "metadata": {},
     "output_type": "execute_result"
    },
    {
     "data": {
      "image/png": "[encoded data removed]",
      "text/plain": [
       "<Figure size 640x480 with 1 Axes>"
      ]
     },
     "metadata": {},
     "output_type": "display_data"
    }
   ],
   "source": [
    "plt.hist(np.mean(np.sum(firing_rates_all_stim, axis = 2), axis = 0)/2.5)"
   ]
  },
  {
   "cell_type": "code",
   "execution_count": 26,
   "metadata": {},
   "outputs": [
    {
     "data": {
      "text/plain": [
       "(4435, 49, 252)"
      ]
     },
     "execution_count": 26,
     "metadata": {},
     "output_type": "execute_result"
    }
   ],
   "source": [
    "firing_rates_all_stim.shape\n"
   ]
  },
  {
   "cell_type": "code",
   "execution_count": 30,
   "metadata": {},
   "outputs": [],
   "source": [
    "import pickle\n",
    "#dump x\n",
    "fname = 0\n",
    "with open(f'{fname}_x.pkl', 'wb') as f:\n",
    "    pickle.dump(firing_rates_all_stim, file = f)\n",
    "#dump y\n",
    "with open(f'{fname}_y.pkl', 'wb') as f:\n",
    "    pickle.dump(y_np, file = f)"
   ]
  }
 ],
 "metadata": {
  "kernelspec": {
   "display_name": "allen_loader",
   "language": "python",
   "name": "python3"
  },
  "language_info": {
   "codemirror_mode": {
    "name": "ipython",
    "version": 3
   },
   "file_extension": ".py",
   "mimetype": "text/x-python",
   "name": "python",
   "nbconvert_exporter": "python",
   "pygments_lexer": "ipython3",
   "version": "3.7.1"
  }
 },
 "nbformat": 4,
 "nbformat_minor": 2
}

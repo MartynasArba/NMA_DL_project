{
 "cells": [
  {
   "cell_type": "code",
   "execution_count": 8,
   "metadata": {},
   "outputs": [],
   "source": [
    "import os\n",
    "import tqdm\n",
    "import numpy as np\n",
    "import pandas as pd\n",
    "import matplotlib.pyplot as plt\n",
    "import pickle\n",
    "\n",
    "import torch\n",
    "import torch.nn as nn\n",
    "import torch.nn.functional as F\n",
    "from torch.utils.data import Dataset\n",
    "from torch.utils.data import DataLoader"
   ]
  },
  {
   "cell_type": "code",
   "execution_count": 9,
   "metadata": {},
   "outputs": [
    {
     "name": "stdout",
     "output_type": "stream",
     "text": [
      "True\n",
      "12.1\n"
     ]
    }
   ],
   "source": [
    "# setup pytorch gpu\n",
    "print(torch.cuda.is_available())\n",
    "print(torch.version.cuda)\n",
    "device = torch.device('cuda' if torch.cuda.is_available() else 'cpu')"
   ]
  },
  {
   "cell_type": "code",
   "execution_count": 10,
   "metadata": {},
   "outputs": [
    {
     "name": "stdout",
     "output_type": "stream",
     "text": [
      "loaded data: X ((15595, 93, 252)), y ((15595,))\n"
     ]
    }
   ],
   "source": [
    "#load saved files\n",
    "fname = 'processed/0_categories'\n",
    "\n",
    "def file_loader(fname, reformat):\n",
    "    \"\"\"\n",
    "    Loads saved data (in this specific project)\n",
    "    \"\"\"\n",
    "    with open(f'./data/{fname}_x.pkl', 'rb') as f:\n",
    "        firing_rates = pickle.load(f)\n",
    "    with open(f'./data/{fname}_y.pkl', 'rb') as f:\n",
    "        y_np = pickle.load(f)\n",
    "    print(f'loaded data: X ({firing_rates.shape}), y ({y_np.shape})')\n",
    "    \n",
    "    num_cats = len(np.unique(y_np))\n",
    "\n",
    "    if reformat:\n",
    "        #format X as tensor of reordered dims to run CNNs\n",
    "        firing_rates = torch.from_numpy(firing_rates).permute(2, 0, 1) \n",
    "        firing_rates = firing_rates.to(torch.float32)\n",
    "        #format y as one hot encoding\n",
    "        y = F.one_hot(torch.from_numpy(y_np).to(torch.int64))\n",
    "        y = y.to(torch.float32)\n",
    "    else:\n",
    "        y = y_np\n",
    "\n",
    "    return firing_rates, y, num_cats\n",
    "\n",
    "firing_rates, y, num_cats = file_loader(fname, reformat=True)"
   ]
  },
  {
   "cell_type": "code",
   "execution_count": 11,
   "metadata": {},
   "outputs": [],
   "source": [
    "#train test split\n",
    "train_split = .8\n",
    "all_ids = np.arange(firing_rates.shape[1])\n",
    "np.random.shuffle(all_ids)\n",
    "train_ids = all_ids[0:int(len(all_ids) * train_split)]\n",
    "test_ids = all_ids[int(len(all_ids) * train_split):-1]"
   ]
  },
  {
   "cell_type": "code",
   "execution_count": 12,
   "metadata": {},
   "outputs": [],
   "source": [
    "n_neurons = firing_rates.shape[-1] #number of units: size of input layer\n",
    "n_bins = firing_rates.shape[0] #always 252 when defined as before\n",
    "output_cats = num_cats #only two categories?\n",
    "\n",
    "#param for dataloader\n",
    "batch_size = 32\n",
    "\n",
    "n_comps = 5 #n of latent comps to try\n",
    "learning_rate = 1e-3 #big LR to converge quickly (hopefully)\n",
    "lambda_l2 = 5e-3 #big l2 regularization\n",
    "num_epochs = 20 #100 definitely enough, but after ~50 slows down considerably if lr=1e-4. \n",
    "#with lr=1e-3 10 might be enough\n",
    "earlystop_criterion = 20 #how many iters of loss worsening before stopping"
   ]
  },
  {
   "cell_type": "code",
   "execution_count": 13,
   "metadata": {},
   "outputs": [],
   "source": [
    "class NeuralData(Dataset):\n",
    "    def __init__(self, train = True):\n",
    "        if train:\n",
    "            self.firing_rate = firing_rates[:, train_ids, :]\n",
    "            self.labels = y[train_ids]\n",
    "        else:\n",
    "            self.firing_rate = firing_rates[:, test_ids, :]\n",
    "            self.labels = y[test_ids]\n",
    "    \n",
    "    def __len__(self):\n",
    "        return self.labels.shape[0]\n",
    "\n",
    "    def __getitem__(self, idx):\n",
    "        rate = self.firing_rate[:, idx]\n",
    "        # rate = torch.sum(self.firing_rate, axis = 0)[idx]\n",
    "        label = self.labels[idx]\n",
    "        return rate, label\n",
    "    \n",
    "train_data = NeuralData(train = True)\n",
    "test_data = NeuralData(train = False)\n",
    "\n",
    "train_loader = DataLoader(dataset = train_data, batch_size = batch_size, shuffle = True)\n",
    "test_loader = DataLoader(dataset = test_data, batch_size = batch_size, shuffle = False)"
   ]
  },
  {
   "cell_type": "code",
   "execution_count": null,
   "metadata": {},
   "outputs": [],
   "source": [
    "class Net(nn.Module):\n",
    "  def __init__(self, ncomp, NN1, NN2, bidi=True):\n",
    "    super(Net, self).__init__()\n",
    "\n",
    "    # play with some of the options in the RNN!\n",
    "    self.rnn = nn.RNN(NN1, ncomp, num_layers = 10, dropout = 0,\n",
    "                      bidirectional = bidi, nonlinearity = 'tanh')\n",
    "    self.fc = nn.Linear(ncomp, NN2)\n",
    "\n",
    "  def forward(self, x):\n",
    "\n",
    "    y = self.rnn(x)[0]\n",
    "\n",
    "    if self.rnn.bidirectional:\n",
    "      # if the rnn is bidirectional, it concatenates the activations from the forward and backward pass\n",
    "      # we want to add them instead, so as to enforce the latents to match between the forward and backward pass\n",
    "      q = (y[:, :, :ncomp] + y[:, :, ncomp:])/2\n",
    "    else:\n",
    "      q = y\n",
    "\n",
    "    # the softplus function is just like a relu but it's smoothed out so we can't predict 0\n",
    "    # if we predict 0 and there was a spike, that's an instant Inf in the Poisson log-likelihood which leads to failure\n",
    "    z = F.softplus(self.fc(q), 10)\n",
    "\n",
    "    return z, q"
   ]
  },
  {
   "cell_type": "code",
   "execution_count": null,
   "metadata": {},
   "outputs": [
    {
     "name": "stderr",
     "output_type": "stream",
     "text": [
      "  5%|▌         | 1/20 [00:13<04:14, 13.41s/it]"
     ]
    },
    {
     "name": "stdout",
     "output_type": "stream",
     "text": [
      "epoch: 0, loss: 0.2108784019947052\n"
     ]
    },
    {
     "name": "stderr",
     "output_type": "stream",
     "text": [
      " 10%|█         | 2/20 [00:26<04:01, 13.40s/it]"
     ]
    },
    {
     "name": "stdout",
     "output_type": "stream",
     "text": [
      "epoch: 1, loss: 0.18843723833560944\n"
     ]
    },
    {
     "name": "stderr",
     "output_type": "stream",
     "text": [
      " 15%|█▌        | 3/20 [00:40<03:49, 13.48s/it]"
     ]
    },
    {
     "name": "stdout",
     "output_type": "stream",
     "text": [
      "epoch: 2, loss: 0.11525359749794006\n"
     ]
    },
    {
     "name": "stderr",
     "output_type": "stream",
     "text": [
      " 20%|██        | 4/20 [00:54<03:42, 13.91s/it]"
     ]
    },
    {
     "name": "stdout",
     "output_type": "stream",
     "text": [
      "epoch: 3, loss: 0.12615275382995605\n"
     ]
    },
    {
     "name": "stderr",
     "output_type": "stream",
     "text": [
      " 25%|██▌       | 5/20 [01:09<03:31, 14.07s/it]"
     ]
    },
    {
     "name": "stdout",
     "output_type": "stream",
     "text": [
      "epoch: 4, loss: 0.11128953844308853\n"
     ]
    },
    {
     "name": "stderr",
     "output_type": "stream",
     "text": [
      " 30%|███       | 6/20 [01:23<03:17, 14.13s/it]"
     ]
    },
    {
     "name": "stdout",
     "output_type": "stream",
     "text": [
      "epoch: 5, loss: 0.11076405644416809\n"
     ]
    },
    {
     "name": "stderr",
     "output_type": "stream",
     "text": [
      " 35%|███▌      | 7/20 [01:37<03:03, 14.08s/it]"
     ]
    },
    {
     "name": "stdout",
     "output_type": "stream",
     "text": [
      "epoch: 6, loss: 0.14623579382896423\n"
     ]
    },
    {
     "name": "stderr",
     "output_type": "stream",
     "text": [
      " 40%|████      | 8/20 [01:51<02:47, 13.94s/it]"
     ]
    },
    {
     "name": "stdout",
     "output_type": "stream",
     "text": [
      "epoch: 7, loss: 0.10822249203920364\n"
     ]
    },
    {
     "name": "stderr",
     "output_type": "stream",
     "text": [
      " 45%|████▌     | 9/20 [02:04<02:32, 13.90s/it]"
     ]
    },
    {
     "name": "stdout",
     "output_type": "stream",
     "text": [
      "epoch: 8, loss: 0.1211710274219513\n"
     ]
    },
    {
     "name": "stderr",
     "output_type": "stream",
     "text": [
      " 50%|█████     | 10/20 [02:18<02:17, 13.72s/it]"
     ]
    },
    {
     "name": "stdout",
     "output_type": "stream",
     "text": [
      "epoch: 9, loss: 0.11090468615293503\n"
     ]
    },
    {
     "name": "stderr",
     "output_type": "stream",
     "text": [
      " 55%|█████▌    | 11/20 [02:31<02:02, 13.60s/it]"
     ]
    },
    {
     "name": "stdout",
     "output_type": "stream",
     "text": [
      "epoch: 10, loss: 0.12757974863052368\n"
     ]
    },
    {
     "name": "stderr",
     "output_type": "stream",
     "text": [
      " 60%|██████    | 12/20 [02:45<01:48, 13.55s/it]"
     ]
    },
    {
     "name": "stdout",
     "output_type": "stream",
     "text": [
      "epoch: 11, loss: 0.10411957651376724\n"
     ]
    },
    {
     "name": "stderr",
     "output_type": "stream",
     "text": [
      " 65%|██████▌   | 13/20 [02:58<01:34, 13.52s/it]"
     ]
    },
    {
     "name": "stdout",
     "output_type": "stream",
     "text": [
      "epoch: 12, loss: 0.1131853237748146\n"
     ]
    },
    {
     "name": "stderr",
     "output_type": "stream",
     "text": [
      " 70%|███████   | 14/20 [03:11<01:20, 13.47s/it]"
     ]
    },
    {
     "name": "stdout",
     "output_type": "stream",
     "text": [
      "epoch: 13, loss: 0.20923417806625366\n"
     ]
    },
    {
     "name": "stderr",
     "output_type": "stream",
     "text": [
      " 75%|███████▌  | 15/20 [03:25<01:07, 13.45s/it]"
     ]
    },
    {
     "name": "stdout",
     "output_type": "stream",
     "text": [
      "epoch: 14, loss: 0.13743248581886292\n"
     ]
    },
    {
     "name": "stderr",
     "output_type": "stream",
     "text": [
      " 80%|████████  | 16/20 [03:39<00:54, 13.61s/it]"
     ]
    },
    {
     "name": "stdout",
     "output_type": "stream",
     "text": [
      "epoch: 15, loss: 0.11711939424276352\n"
     ]
    },
    {
     "name": "stderr",
     "output_type": "stream",
     "text": [
      " 85%|████████▌ | 17/20 [03:53<00:41, 13.82s/it]"
     ]
    },
    {
     "name": "stdout",
     "output_type": "stream",
     "text": [
      "epoch: 16, loss: 0.23062944412231445\n"
     ]
    },
    {
     "name": "stderr",
     "output_type": "stream",
     "text": [
      " 90%|█████████ | 18/20 [04:08<00:28, 14.19s/it]"
     ]
    },
    {
     "name": "stdout",
     "output_type": "stream",
     "text": [
      "epoch: 17, loss: 0.10625626891851425\n"
     ]
    },
    {
     "name": "stderr",
     "output_type": "stream",
     "text": [
      " 95%|█████████▌| 19/20 [04:22<00:14, 14.04s/it]"
     ]
    },
    {
     "name": "stdout",
     "output_type": "stream",
     "text": [
      "epoch: 18, loss: 0.10590597987174988\n"
     ]
    },
    {
     "name": "stderr",
     "output_type": "stream",
     "text": [
      "100%|██████████| 20/20 [04:35<00:00, 13.79s/it]"
     ]
    },
    {
     "name": "stdout",
     "output_type": "stream",
     "text": [
      "epoch: 19, loss: 0.10239189863204956\n"
     ]
    },
    {
     "name": "stderr",
     "output_type": "stream",
     "text": [
      "\n"
     ]
    },
    {
     "name": "stdout",
     "output_type": "stream",
     "text": [
      "test acc from rates using 5 hidden dims: 99.262%\n"
     ]
    }
   ],
   "source": [
    "comps_to_try = [5]\n",
    "accs = []\n",
    "losses = []\n",
    "\n",
    "for n_comps in comps_to_try:\n",
    "    train_data = NeuralData(train = True)\n",
    "    test_data = NeuralData(train = False)\n",
    "\n",
    "    train_loader = DataLoader(dataset = train_data, batch_size = batch_size, shuffle = True)\n",
    "    test_loader = DataLoader(dataset = test_data, batch_size = batch_size, shuffle = False)\n",
    "    #create model\n",
    "    model = Net(n_comps = n_comps, n_neurons = n_neurons, output_cats = output_cats)\n",
    "\n",
    "    #loss and optimizer\n",
    "    criterion = nn.CrossEntropyLoss()\n",
    "    optimizer = torch.optim.Adam(model.parameters(), lr = learning_rate)\n",
    "\n",
    "    loss_list = []\n",
    "    loss_increase = 0\n",
    "    prev_loss = 5\n",
    "\n",
    "    #train\n",
    "    for epoch in tqdm.tqdm(range(num_epochs)):\n",
    "        #iterate through train data\n",
    "        for rate, label in train_loader:\n",
    "            rate = rate.unsqueeze(1)\n",
    "            #forward pass \n",
    "            pred = model(rate)\n",
    "            \n",
    "            l2 = 0\n",
    "            for p in model.parameters():\n",
    "                l2 += torch.sum(p ** 2)\n",
    "            loss = criterion(pred, label) + lambda_l2 * l2\n",
    "            loss_list.append(loss.item())\n",
    "            \n",
    "            #early stopping\n",
    "            if loss > prev_loss:\n",
    "                loss_increase += 1\n",
    "                prev_loss = loss\n",
    "                if loss_increase > earlystop_criterion:\n",
    "                    print(f'Early stop at epoch {epoch}, loss = {loss}, didn\\'t improve for {earlystop_criterion} iterations')            \n",
    "            else:\n",
    "                loss_increase = 0\n",
    "                prev_loss = loss\n",
    "                \n",
    "            #backprop\n",
    "            optimizer.zero_grad() #zero out grads\n",
    "            loss.backward() #calculate grad\n",
    "            optimizer.step() #take step\n",
    "\n",
    "        print(f'epoch: {epoch}, loss: {loss}')\n",
    "            \n",
    "    # testing\n",
    "    model.eval()\n",
    "    model.to(device)\n",
    "    real_labels, predicted_labels = [], []\n",
    "    with torch.no_grad():\n",
    "        correct = 0\n",
    "        total = 0\n",
    "        for rate, labels in test_loader:\n",
    "            #load labels\n",
    "            rate, labels = rate.to(device), labels.to(device)\n",
    "            rate = rate.unsqueeze(1)\n",
    "            val, labels = torch.max(labels.data, 1)\n",
    "            real_labels += list(labels.cpu().numpy())\n",
    "            #get preds\n",
    "            preds = model(rate)\n",
    "            val, predicted = torch.max(preds.data, 1)\n",
    "            predicted_labels += list(predicted.cpu().numpy())\n",
    "            \n",
    "            total += labels.size(0)\n",
    "            correct += (predicted == labels).sum().item()\n",
    "\n",
    "        accs.append((correct / total)*100)\n",
    "        losses.append(loss_list)\n",
    "        print(f\"test acc from rates using {n_comps} hidden dims: {(correct / total)*100:.3f}%\")"
   ]
  },
  {
   "cell_type": "code",
   "execution_count": 11,
   "metadata": {},
   "outputs": [
    {
     "data": {
      "text/plain": [
       "Text(0, 0.5, 'loss, cross entropy + L2')"
      ]
     },
     "execution_count": 11,
     "metadata": {},
     "output_type": "execute_result"
    },
    {
     "data": {
      "image/png": "[encoded data removed]",
      "text/plain": [
       "<Figure size 640x480 with 1 Axes>"
      ]
     },
     "metadata": {},
     "output_type": "display_data"
    }
   ],
   "source": [
    "plt.plot(loss_list) \n",
    "plt.xlabel('iteration')\n",
    "plt.ylabel('loss, cross entropy + L2')"
   ]
  },
  {
   "cell_type": "code",
   "execution_count": 12,
   "metadata": {},
   "outputs": [
    {
     "data": {
      "text/plain": [
       "<matplotlib.image.AxesImage at 0x222eeede650>"
      ]
     },
     "execution_count": 12,
     "metadata": {},
     "output_type": "execute_result"
    },
    {
     "data": {
      "image/png": "[encoded data removed]",
      "text/plain": [
       "<Figure size 640x480 with 1 Axes>"
      ]
     },
     "metadata": {},
     "output_type": "display_data"
    }
   ],
   "source": [
    "from sklearn.metrics import confusion_matrix\n",
    "\n",
    "plt.imshow(confusion_matrix(real_labels, predicted_labels, normalize = 'true'))"
   ]
  },
  {
   "cell_type": "code",
   "execution_count": 13,
   "metadata": {},
   "outputs": [
    {
     "data": {
      "text/plain": [
       "array([[ 717,    0,    0],\n",
       "       [   0, 1205,   11],\n",
       "       [   0,   12, 1173]])"
      ]
     },
     "execution_count": 13,
     "metadata": {},
     "output_type": "execute_result"
    }
   ],
   "source": [
    "confusion_matrix(real_labels, predicted_labels)"
   ]
  },
  {
   "cell_type": "code",
   "execution_count": null,
   "metadata": {},
   "outputs": [],
   "source": [
    "# #save model for the future in case\n",
    "# with open('models/cnn_model_3cat99acc.pkl', 'wb') as f:\n",
    "#     pickle.dump(model, f)"
   ]
  },
  {
   "cell_type": "code",
   "execution_count": 15,
   "metadata": {},
   "outputs": [
    {
     "name": "stdout",
     "output_type": "stream",
     "text": [
      "layer 0 num of params: 576\n",
      "layer 1 num of params: 64\n",
      "layer 2 num of params: 18432\n",
      "layer 3 num of params: 32\n",
      "layer 4 num of params: 12000\n",
      "layer 5 num of params: 5\n",
      "layer 6 num of params: 15\n",
      "layer 7 num of params: 3\n"
     ]
    }
   ],
   "source": [
    "for i, layer in enumerate(model.parameters()):\n",
    "    print(f'layer {i} num of params: {torch.numel(layer)}')"
   ]
  }
 ],
 "metadata": {
  "kernelspec": {
   "display_name": "torch_cuda",
   "language": "python",
   "name": "python3"
  },
  "language_info": {
   "codemirror_mode": {
    "name": "ipython",
    "version": 3
   },
   "file_extension": ".py",
   "mimetype": "text/x-python",
   "name": "python",
   "nbconvert_exporter": "python",
   "pygments_lexer": "ipython3",
   "version": "3.10.18"
  }
 },
 "nbformat": 4,
 "nbformat_minor": 2
}
